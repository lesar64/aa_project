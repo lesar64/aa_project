{
 "cells": [
  {
   "cell_type": "code",
   "execution_count": 1,
   "metadata": {},
   "outputs": [],
   "source": [
    "%matplotlib inline\n",
    "import numpy as np\n",
    "import pandas as pd\n",
    "import matplotlib as mpl\n",
    "import mpl_scatter_density\n",
    "import matplotlib.pyplot as plt\n",
    "import seaborn as sns\n",
    "from mpl_toolkits.basemap import Basemap"
   ]
  },
  {
   "cell_type": "code",
   "execution_count": 2,
   "metadata": {},
   "outputs": [],
   "source": [
    "frankfurt_weather = pd.read_csv(\"frankfurt_weather.csv\")"
   ]
  },
  {
   "cell_type": "code",
   "execution_count": 13,
   "metadata": {},
   "outputs": [
    {
     "data": {
      "text/html": [
       "<div>\n",
       "<style scoped>\n",
       "    .dataframe tbody tr th:only-of-type {\n",
       "        vertical-align: middle;\n",
       "    }\n",
       "\n",
       "    .dataframe tbody tr th {\n",
       "        vertical-align: top;\n",
       "    }\n",
       "\n",
       "    .dataframe thead th {\n",
       "        text-align: right;\n",
       "    }\n",
       "</style>\n",
       "<table border=\"1\" class=\"dataframe\">\n",
       "  <thead>\n",
       "    <tr style=\"text-align: right;\">\n",
       "      <th></th>\n",
       "      <th>Produkt_Code</th>\n",
       "      <th>SDO_ID</th>\n",
       "      <th>Zeitstempel</th>\n",
       "      <th>Wert</th>\n",
       "      <th>Qualitaet_Byte</th>\n",
       "      <th>Qualitaet_Niveau</th>\n",
       "      <th>City</th>\n",
       "    </tr>\n",
       "  </thead>\n",
       "  <tbody>\n",
       "    <tr>\n",
       "      <th>0</th>\n",
       "      <td>TT_TU_MN009</td>\n",
       "      <td>Frankfurt</td>\n",
       "      <td>201902010000</td>\n",
       "      <td>-0.3</td>\n",
       "      <td>7</td>\n",
       "      <td>6</td>\n",
       "      <td>Frankfurt</td>\n",
       "    </tr>\n",
       "    <tr>\n",
       "      <th>1</th>\n",
       "      <td>TT_TU_MN009</td>\n",
       "      <td>Frankfurt</td>\n",
       "      <td>201902010100</td>\n",
       "      <td>-0.1</td>\n",
       "      <td>7</td>\n",
       "      <td>6</td>\n",
       "      <td>Frankfurt</td>\n",
       "    </tr>\n",
       "    <tr>\n",
       "      <th>2</th>\n",
       "      <td>TT_TU_MN009</td>\n",
       "      <td>Frankfurt</td>\n",
       "      <td>201902010200</td>\n",
       "      <td>-0.3</td>\n",
       "      <td>7</td>\n",
       "      <td>1</td>\n",
       "      <td>Frankfurt</td>\n",
       "    </tr>\n",
       "    <tr>\n",
       "      <th>3</th>\n",
       "      <td>TT_TU_MN009</td>\n",
       "      <td>Frankfurt</td>\n",
       "      <td>201902010300</td>\n",
       "      <td>-0.3</td>\n",
       "      <td>7</td>\n",
       "      <td>1</td>\n",
       "      <td>Frankfurt</td>\n",
       "    </tr>\n",
       "    <tr>\n",
       "      <th>4</th>\n",
       "      <td>TT_TU_MN009</td>\n",
       "      <td>Frankfurt</td>\n",
       "      <td>201902010400</td>\n",
       "      <td>0.0</td>\n",
       "      <td>7</td>\n",
       "      <td>1</td>\n",
       "      <td>Frankfurt</td>\n",
       "    </tr>\n",
       "  </tbody>\n",
       "</table>\n",
       "</div>"
      ],
      "text/plain": [
       "  Produkt_Code     SDO_ID   Zeitstempel  Wert  Qualitaet_Byte  \\\n",
       "0  TT_TU_MN009  Frankfurt  201902010000  -0.3               7   \n",
       "1  TT_TU_MN009  Frankfurt  201902010100  -0.1               7   \n",
       "2  TT_TU_MN009  Frankfurt  201902010200  -0.3               7   \n",
       "3  TT_TU_MN009  Frankfurt  201902010300  -0.3               7   \n",
       "4  TT_TU_MN009  Frankfurt  201902010400   0.0               7   \n",
       "\n",
       "   Qualitaet_Niveau       City  \n",
       "0                 6  Frankfurt  \n",
       "1                 6  Frankfurt  \n",
       "2                 1  Frankfurt  \n",
       "3                 1  Frankfurt  \n",
       "4                 1  Frankfurt  "
      ]
     },
     "execution_count": 13,
     "metadata": {},
     "output_type": "execute_result"
    }
   ],
   "source": [
    "frankfurt_weather.head()"
   ]
  },
  {
   "cell_type": "code",
   "execution_count": 12,
   "metadata": {},
   "outputs": [],
   "source": [
    "frankfurt_weather.SDO_ID = \"Frankfurt\""
   ]
  },
  {
   "cell_type": "code",
   "execution_count": null,
   "metadata": {},
   "outputs": [],
   "source": []
  },
  {
   "cell_type": "code",
   "execution_count": 5,
   "metadata": {},
   "outputs": [
    {
     "name": "stdout",
     "output_type": "stream",
     "text": [
      "<class 'pandas.core.frame.DataFrame'>\n",
      "RangeIndex: 3600 entries, 0 to 3599\n",
      "Data columns (total 7 columns):\n",
      " #   Column            Non-Null Count  Dtype  \n",
      "---  ------            --------------  -----  \n",
      " 0   Produkt_Code      3600 non-null   object \n",
      " 1   SDO_ID            3600 non-null   int64  \n",
      " 2   Zeitstempel       3600 non-null   int64  \n",
      " 3   Wert              3600 non-null   float64\n",
      " 4   Qualitaet_Byte    3600 non-null   int64  \n",
      " 5   Qualitaet_Niveau  3600 non-null   int64  \n",
      " 6   City              3600 non-null   object \n",
      "dtypes: float64(1), int64(4), object(2)\n",
      "memory usage: 197.0+ KB\n"
     ]
    }
   ],
   "source": [
    "frankfurt_weather.info()"
   ]
  },
  {
   "cell_type": "code",
   "execution_count": 6,
   "metadata": {},
   "outputs": [
    {
     "data": {
      "text/html": [
       "<div>\n",
       "<style scoped>\n",
       "    .dataframe tbody tr th:only-of-type {\n",
       "        vertical-align: middle;\n",
       "    }\n",
       "\n",
       "    .dataframe tbody tr th {\n",
       "        vertical-align: top;\n",
       "    }\n",
       "\n",
       "    .dataframe thead th {\n",
       "        text-align: right;\n",
       "    }\n",
       "</style>\n",
       "<table border=\"1\" class=\"dataframe\">\n",
       "  <thead>\n",
       "    <tr style=\"text-align: right;\">\n",
       "      <th></th>\n",
       "      <th>SDO_ID</th>\n",
       "      <th>Zeitstempel</th>\n",
       "      <th>Wert</th>\n",
       "      <th>Qualitaet_Byte</th>\n",
       "      <th>Qualitaet_Niveau</th>\n",
       "    </tr>\n",
       "  </thead>\n",
       "  <tbody>\n",
       "    <tr>\n",
       "      <th>count</th>\n",
       "      <td>3600.0</td>\n",
       "      <td>3.600000e+03</td>\n",
       "      <td>3600.000000</td>\n",
       "      <td>3600.0</td>\n",
       "      <td>3600.000000</td>\n",
       "    </tr>\n",
       "    <tr>\n",
       "      <th>mean</th>\n",
       "      <td>1420.0</td>\n",
       "      <td>2.019042e+11</td>\n",
       "      <td>11.781750</td>\n",
       "      <td>7.0</td>\n",
       "      <td>1.029444</td>\n",
       "    </tr>\n",
       "    <tr>\n",
       "      <th>std</th>\n",
       "      <td>0.0</td>\n",
       "      <td>1.405292e+06</td>\n",
       "      <td>7.522607</td>\n",
       "      <td>0.0</td>\n",
       "      <td>0.405190</td>\n",
       "    </tr>\n",
       "    <tr>\n",
       "      <th>min</th>\n",
       "      <td>1420.0</td>\n",
       "      <td>2.019020e+11</td>\n",
       "      <td>-4.000000</td>\n",
       "      <td>7.0</td>\n",
       "      <td>0.000000</td>\n",
       "    </tr>\n",
       "    <tr>\n",
       "      <th>25%</th>\n",
       "      <td>1420.0</td>\n",
       "      <td>2.019031e+11</td>\n",
       "      <td>6.500000</td>\n",
       "      <td>7.0</td>\n",
       "      <td>1.000000</td>\n",
       "    </tr>\n",
       "    <tr>\n",
       "      <th>50%</th>\n",
       "      <td>1420.0</td>\n",
       "      <td>2.019042e+11</td>\n",
       "      <td>10.850000</td>\n",
       "      <td>7.0</td>\n",
       "      <td>1.000000</td>\n",
       "    </tr>\n",
       "    <tr>\n",
       "      <th>75%</th>\n",
       "      <td>1420.0</td>\n",
       "      <td>2.019052e+11</td>\n",
       "      <td>16.300000</td>\n",
       "      <td>7.0</td>\n",
       "      <td>1.000000</td>\n",
       "    </tr>\n",
       "    <tr>\n",
       "      <th>max</th>\n",
       "      <td>1420.0</td>\n",
       "      <td>2.019063e+11</td>\n",
       "      <td>38.500000</td>\n",
       "      <td>7.0</td>\n",
       "      <td>6.000000</td>\n",
       "    </tr>\n",
       "  </tbody>\n",
       "</table>\n",
       "</div>"
      ],
      "text/plain": [
       "       SDO_ID   Zeitstempel         Wert  Qualitaet_Byte  Qualitaet_Niveau\n",
       "count  3600.0  3.600000e+03  3600.000000          3600.0       3600.000000\n",
       "mean   1420.0  2.019042e+11    11.781750             7.0          1.029444\n",
       "std       0.0  1.405292e+06     7.522607             0.0          0.405190\n",
       "min    1420.0  2.019020e+11    -4.000000             7.0          0.000000\n",
       "25%    1420.0  2.019031e+11     6.500000             7.0          1.000000\n",
       "50%    1420.0  2.019042e+11    10.850000             7.0          1.000000\n",
       "75%    1420.0  2.019052e+11    16.300000             7.0          1.000000\n",
       "max    1420.0  2.019063e+11    38.500000             7.0          6.000000"
      ]
     },
     "execution_count": 6,
     "metadata": {},
     "output_type": "execute_result"
    }
   ],
   "source": [
    "frankfurt_weather.describe()"
   ]
  },
  {
   "cell_type": "code",
   "execution_count": 7,
   "metadata": {},
   "outputs": [],
   "source": [
    "from datetime import date\n",
    "import calendar\n",
    "import datetime"
   ]
  },
  {
   "cell_type": "code",
   "execution_count": 8,
   "metadata": {},
   "outputs": [
    {
     "data": {
      "text/plain": [
       "Produkt_Code         object\n",
       "SDO_ID                int64\n",
       "Zeitstempel           int64\n",
       "Wert                float64\n",
       "Qualitaet_Byte        int64\n",
       "Qualitaet_Niveau      int64\n",
       "City                 object\n",
       "dtype: object"
      ]
     },
     "execution_count": 8,
     "metadata": {},
     "output_type": "execute_result"
    }
   ],
   "source": [
    "frankfurt_weather.dtypes"
   ]
  },
  {
   "cell_type": "code",
   "execution_count": 15,
   "metadata": {},
   "outputs": [],
   "source": [
    "import time\n",
    "frankfurt_weather.Zeitstempel = time.strftime(\"%x %X\")"
   ]
  },
  {
   "cell_type": "code",
   "execution_count": 16,
   "metadata": {},
   "outputs": [
    {
     "data": {
      "text/html": [
       "<div>\n",
       "<style scoped>\n",
       "    .dataframe tbody tr th:only-of-type {\n",
       "        vertical-align: middle;\n",
       "    }\n",
       "\n",
       "    .dataframe tbody tr th {\n",
       "        vertical-align: top;\n",
       "    }\n",
       "\n",
       "    .dataframe thead th {\n",
       "        text-align: right;\n",
       "    }\n",
       "</style>\n",
       "<table border=\"1\" class=\"dataframe\">\n",
       "  <thead>\n",
       "    <tr style=\"text-align: right;\">\n",
       "      <th></th>\n",
       "      <th>Produkt_Code</th>\n",
       "      <th>SDO_ID</th>\n",
       "      <th>Zeitstempel</th>\n",
       "      <th>Wert</th>\n",
       "      <th>Qualitaet_Byte</th>\n",
       "      <th>Qualitaet_Niveau</th>\n",
       "      <th>City</th>\n",
       "    </tr>\n",
       "  </thead>\n",
       "  <tbody>\n",
       "    <tr>\n",
       "      <th>0</th>\n",
       "      <td>TT_TU_MN009</td>\n",
       "      <td>Frankfurt</td>\n",
       "      <td>12/15/20 01:02:19</td>\n",
       "      <td>-0.3</td>\n",
       "      <td>7</td>\n",
       "      <td>6</td>\n",
       "      <td>Frankfurt</td>\n",
       "    </tr>\n",
       "    <tr>\n",
       "      <th>1</th>\n",
       "      <td>TT_TU_MN009</td>\n",
       "      <td>Frankfurt</td>\n",
       "      <td>12/15/20 01:02:19</td>\n",
       "      <td>-0.1</td>\n",
       "      <td>7</td>\n",
       "      <td>6</td>\n",
       "      <td>Frankfurt</td>\n",
       "    </tr>\n",
       "    <tr>\n",
       "      <th>2</th>\n",
       "      <td>TT_TU_MN009</td>\n",
       "      <td>Frankfurt</td>\n",
       "      <td>12/15/20 01:02:19</td>\n",
       "      <td>-0.3</td>\n",
       "      <td>7</td>\n",
       "      <td>1</td>\n",
       "      <td>Frankfurt</td>\n",
       "    </tr>\n",
       "  </tbody>\n",
       "</table>\n",
       "</div>"
      ],
      "text/plain": [
       "  Produkt_Code     SDO_ID        Zeitstempel  Wert  Qualitaet_Byte  \\\n",
       "0  TT_TU_MN009  Frankfurt  12/15/20 01:02:19  -0.3               7   \n",
       "1  TT_TU_MN009  Frankfurt  12/15/20 01:02:19  -0.1               7   \n",
       "2  TT_TU_MN009  Frankfurt  12/15/20 01:02:19  -0.3               7   \n",
       "\n",
       "   Qualitaet_Niveau       City  \n",
       "0                 6  Frankfurt  \n",
       "1                 6  Frankfurt  \n",
       "2                 1  Frankfurt  "
      ]
     },
     "execution_count": 16,
     "metadata": {},
     "output_type": "execute_result"
    }
   ],
   "source": [
    "frankfurt_weather.head(3)"
   ]
  },
  {
   "cell_type": "code",
   "execution_count": null,
   "metadata": {},
   "outputs": [],
   "source": []
  }
 ],
 "metadata": {
  "kernelspec": {
   "display_name": "Python 3",
   "language": "python",
   "name": "python3"
  },
  "language_info": {
   "codemirror_mode": {
    "name": "ipython",
    "version": 3
   },
   "file_extension": ".py",
   "mimetype": "text/x-python",
   "name": "python",
   "nbconvert_exporter": "python",
   "pygments_lexer": "ipython3",
   "version": "3.8.5"
  }
 },
 "nbformat": 4,
 "nbformat_minor": 4
}
