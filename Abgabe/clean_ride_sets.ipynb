{
 "cells": [
  {
   "cell_type": "code",
   "execution_count": 126,
   "metadata": {
    "collapsed": true
   },
   "outputs": [],
   "source": [
    "import pandas as pd\n",
    "import datetime as dt\n",
    "from datetime import date\n",
    "import calendar\n",
    "import geopy.distance as gpd\n",
    "from math import radians, cos, sin, asin, sqrt"
   ]
  },
  {
   "cell_type": "code",
   "execution_count": 127,
   "outputs": [],
   "source": [
    "df = pd.read_csv(r\"D:\\OneDrive - Universität zu Köln\\Uni\\AA\\Project\\aa_project\\Data\\berlin.csv\")"
   ],
   "metadata": {
    "collapsed": false,
    "pycharm": {
     "name": "#%%\n"
    }
   }
  },
  {
   "cell_type": "code",
   "execution_count": 128,
   "outputs": [],
   "source": [
    "df.day = pd.to_datetime(df.day)"
   ],
   "metadata": {
    "collapsed": false,
    "pycharm": {
     "name": "#%%\n"
    }
   }
  },
  {
   "cell_type": "code",
   "execution_count": 129,
   "outputs": [],
   "source": [
    "for ind, row in df.iterrows():\n",
    "    df.loc[ind, \"weekday_str\"] = calendar.day_name[row['day'].weekday()]\n",
    "\n",
    "df[\"weekday\"] = [d.weekday()+1 for d in df['day']]"
   ],
   "metadata": {
    "collapsed": false,
    "pycharm": {
     "name": "#%%\n"
    }
   }
  },
  {
   "cell_type": "code",
   "execution_count": 130,
   "outputs": [],
   "source": [
    "def haversine(lon1, lat1, lon2, lat2):\n",
    "    lon1, lat1, lon2, lat2 = map(radians, [lon1, lat1, lon2, lat2])\n",
    "\n",
    "  # haversine formula\n",
    "    dlon = lon2 - lon1\n",
    "    dlat = lat2 - lat1\n",
    "    a = sin(dlat/2)**2 + cos(lat1) * cos(lat2) * sin(dlon/2)**2\n",
    "    c = 2 * asin(sqrt(a))\n",
    "    r = 6371 # Radius of earth in kilometers. Use 3956 for miles\n",
    "    return c * r"
   ],
   "metadata": {
    "collapsed": false,
    "pycharm": {
     "name": "#%%\n"
    }
   }
  },
  {
   "cell_type": "code",
   "execution_count": 131,
   "outputs": [],
   "source": [
    "# df[\"distance\"] = \"\"\n",
    "\n",
    "for ind, row in df.iterrows():\n",
    "    df.loc[ind, \"distance\"] = haversine(row['orig_lng'], row['orig_lat'], row['dest_lng'], row['dest_lat'])"
   ],
   "metadata": {
    "collapsed": false,
    "pycharm": {
     "name": "#%%\n"
    }
   }
  },
  {
   "cell_type": "code",
   "execution_count": 132,
   "outputs": [],
   "source": [
    "df.distance = df.distance.astype(float).round(decimals=3)\n",
    "\n"
   ],
   "metadata": {
    "collapsed": false,
    "pycharm": {
     "name": "#%%\n"
    }
   }
  },
  {
   "cell_type": "code",
   "execution_count": 133,
   "outputs": [
    {
     "data": {
      "text/plain": "              day      time  b_number    city              trip_duration  \\\n0      2019-02-16  14:53:00     13001  berlin  0 days 00:21:00.000000000   \n1      2019-02-16  17:22:00     13001  berlin  0 days 00:27:00.000000000   \n2      2019-02-16  23:29:00     13001  berlin  0 days 00:22:00.000000000   \n3      2019-02-18  17:49:00     13001  berlin  0 days 00:15:00.000000000   \n4      2019-02-19  13:08:00     13001  berlin  0 days 00:09:00.000000000   \n...           ...       ...       ...     ...                        ...   \n215076 2019-05-13  09:57:00     30186  berlin  0 days 00:13:00.000000000   \n215077 2019-04-01  16:20:00     33140  berlin  0 days 00:50:00.000000000   \n215078 2019-05-10  10:59:00     38671  berlin  0 days 00:05:00.000000000   \n215079 2019-06-18  19:21:00     99851  berlin  0 days 00:03:00.000000000   \n215080 2019-06-19  15:43:00     99909  berlin  0 days 00:04:00.000000000   \n\n         orig_lat   orig_lng   dest_lat   dest_lng weekday_str  weekday  \\\n0       52.505076  13.414721  52.534591  13.452043    Saturday        6   \n1       52.534591  13.452043  52.504621  13.415686    Saturday        6   \n2       52.504621  13.415686  52.528998  13.456997    Saturday        6   \n3       52.528998  13.456997  52.536231  13.432285      Monday        1   \n4       52.536231  13.432285  52.543311  13.441611     Tuesday        2   \n...           ...        ...        ...        ...         ...      ...   \n215076  52.534774  13.346862  52.534924  13.347056      Monday        1   \n215077  52.507288  13.333964  52.505247  13.327885      Monday        1   \n215078  50.813178   8.775800  50.814100   8.770868      Friday        5   \n215079  52.494436  13.379319  52.497192  13.380079     Tuesday        2   \n215080  52.535013  13.347290  52.534947  13.347106   Wednesday        3   \n\n        distance  \n0          4.141  \n1          4.142  \n2          3.894  \n3          1.855  \n4          1.009  \n...          ...  \n215076     0.021  \n215077     0.470  \n215078     0.361  \n215079     0.311  \n215080     0.015  \n\n[215081 rows x 12 columns]",
      "text/html": "<div>\n<style scoped>\n    .dataframe tbody tr th:only-of-type {\n        vertical-align: middle;\n    }\n\n    .dataframe tbody tr th {\n        vertical-align: top;\n    }\n\n    .dataframe thead th {\n        text-align: right;\n    }\n</style>\n<table border=\"1\" class=\"dataframe\">\n  <thead>\n    <tr style=\"text-align: right;\">\n      <th></th>\n      <th>day</th>\n      <th>time</th>\n      <th>b_number</th>\n      <th>city</th>\n      <th>trip_duration</th>\n      <th>orig_lat</th>\n      <th>orig_lng</th>\n      <th>dest_lat</th>\n      <th>dest_lng</th>\n      <th>weekday_str</th>\n      <th>weekday</th>\n      <th>distance</th>\n    </tr>\n  </thead>\n  <tbody>\n    <tr>\n      <th>0</th>\n      <td>2019-02-16</td>\n      <td>14:53:00</td>\n      <td>13001</td>\n      <td>berlin</td>\n      <td>0 days 00:21:00.000000000</td>\n      <td>52.505076</td>\n      <td>13.414721</td>\n      <td>52.534591</td>\n      <td>13.452043</td>\n      <td>Saturday</td>\n      <td>6</td>\n      <td>4.141</td>\n    </tr>\n    <tr>\n      <th>1</th>\n      <td>2019-02-16</td>\n      <td>17:22:00</td>\n      <td>13001</td>\n      <td>berlin</td>\n      <td>0 days 00:27:00.000000000</td>\n      <td>52.534591</td>\n      <td>13.452043</td>\n      <td>52.504621</td>\n      <td>13.415686</td>\n      <td>Saturday</td>\n      <td>6</td>\n      <td>4.142</td>\n    </tr>\n    <tr>\n      <th>2</th>\n      <td>2019-02-16</td>\n      <td>23:29:00</td>\n      <td>13001</td>\n      <td>berlin</td>\n      <td>0 days 00:22:00.000000000</td>\n      <td>52.504621</td>\n      <td>13.415686</td>\n      <td>52.528998</td>\n      <td>13.456997</td>\n      <td>Saturday</td>\n      <td>6</td>\n      <td>3.894</td>\n    </tr>\n    <tr>\n      <th>3</th>\n      <td>2019-02-18</td>\n      <td>17:49:00</td>\n      <td>13001</td>\n      <td>berlin</td>\n      <td>0 days 00:15:00.000000000</td>\n      <td>52.528998</td>\n      <td>13.456997</td>\n      <td>52.536231</td>\n      <td>13.432285</td>\n      <td>Monday</td>\n      <td>1</td>\n      <td>1.855</td>\n    </tr>\n    <tr>\n      <th>4</th>\n      <td>2019-02-19</td>\n      <td>13:08:00</td>\n      <td>13001</td>\n      <td>berlin</td>\n      <td>0 days 00:09:00.000000000</td>\n      <td>52.536231</td>\n      <td>13.432285</td>\n      <td>52.543311</td>\n      <td>13.441611</td>\n      <td>Tuesday</td>\n      <td>2</td>\n      <td>1.009</td>\n    </tr>\n    <tr>\n      <th>...</th>\n      <td>...</td>\n      <td>...</td>\n      <td>...</td>\n      <td>...</td>\n      <td>...</td>\n      <td>...</td>\n      <td>...</td>\n      <td>...</td>\n      <td>...</td>\n      <td>...</td>\n      <td>...</td>\n      <td>...</td>\n    </tr>\n    <tr>\n      <th>215076</th>\n      <td>2019-05-13</td>\n      <td>09:57:00</td>\n      <td>30186</td>\n      <td>berlin</td>\n      <td>0 days 00:13:00.000000000</td>\n      <td>52.534774</td>\n      <td>13.346862</td>\n      <td>52.534924</td>\n      <td>13.347056</td>\n      <td>Monday</td>\n      <td>1</td>\n      <td>0.021</td>\n    </tr>\n    <tr>\n      <th>215077</th>\n      <td>2019-04-01</td>\n      <td>16:20:00</td>\n      <td>33140</td>\n      <td>berlin</td>\n      <td>0 days 00:50:00.000000000</td>\n      <td>52.507288</td>\n      <td>13.333964</td>\n      <td>52.505247</td>\n      <td>13.327885</td>\n      <td>Monday</td>\n      <td>1</td>\n      <td>0.470</td>\n    </tr>\n    <tr>\n      <th>215078</th>\n      <td>2019-05-10</td>\n      <td>10:59:00</td>\n      <td>38671</td>\n      <td>berlin</td>\n      <td>0 days 00:05:00.000000000</td>\n      <td>50.813178</td>\n      <td>8.775800</td>\n      <td>50.814100</td>\n      <td>8.770868</td>\n      <td>Friday</td>\n      <td>5</td>\n      <td>0.361</td>\n    </tr>\n    <tr>\n      <th>215079</th>\n      <td>2019-06-18</td>\n      <td>19:21:00</td>\n      <td>99851</td>\n      <td>berlin</td>\n      <td>0 days 00:03:00.000000000</td>\n      <td>52.494436</td>\n      <td>13.379319</td>\n      <td>52.497192</td>\n      <td>13.380079</td>\n      <td>Tuesday</td>\n      <td>2</td>\n      <td>0.311</td>\n    </tr>\n    <tr>\n      <th>215080</th>\n      <td>2019-06-19</td>\n      <td>15:43:00</td>\n      <td>99909</td>\n      <td>berlin</td>\n      <td>0 days 00:04:00.000000000</td>\n      <td>52.535013</td>\n      <td>13.347290</td>\n      <td>52.534947</td>\n      <td>13.347106</td>\n      <td>Wednesday</td>\n      <td>3</td>\n      <td>0.015</td>\n    </tr>\n  </tbody>\n</table>\n<p>215081 rows × 12 columns</p>\n</div>"
     },
     "execution_count": 133,
     "metadata": {},
     "output_type": "execute_result"
    }
   ],
   "source": [
    "df.dropna(axis=0)"
   ],
   "metadata": {
    "collapsed": false,
    "pycharm": {
     "name": "#%%\n"
    }
   }
  },
  {
   "cell_type": "code",
   "execution_count": 134,
   "outputs": [],
   "source": [
    "df['year'] = [d.year for d in df['day']]\n",
    "df['month'] = [d.month for d in df['day']]\n",
    "df['date'] = [d.day for d in df['day']]"
   ],
   "metadata": {
    "collapsed": false,
    "pycharm": {
     "name": "#%%\n"
    }
   }
  },
  {
   "cell_type": "code",
   "execution_count": 135,
   "outputs": [],
   "source": [
    "df['hour'] = [d[:2] for d in df['time']]\n",
    "df.hour = df.hour.astype(int)\n",
    "df['min'] = [d[3:5] for d in df['time']]\n",
    "df[\"min\"] = df[\"min\"].astype(int)"
   ],
   "metadata": {
    "collapsed": false,
    "pycharm": {
     "name": "#%%\n"
    }
   }
  },
  {
   "cell_type": "code",
   "execution_count": 136,
   "outputs": [],
   "source": [
    "df.trip_duration = [d[6:12] for d in df.trip_duration]"
   ],
   "metadata": {
    "collapsed": false,
    "pycharm": {
     "name": "#%%\n"
    }
   }
  },
  {
   "cell_type": "code",
   "execution_count": 137,
   "outputs": [],
   "source": [
    "def time_convert(time):\n",
    "    hour = int(time[:3])\n",
    "    min = int(time[4:])\n",
    "    return (min + hour*60)"
   ],
   "metadata": {
    "collapsed": false,
    "pycharm": {
     "name": "#%%\n"
    }
   }
  },
  {
   "cell_type": "code",
   "execution_count": 138,
   "outputs": [],
   "source": [
    "df.trip_duration = df.trip_duration.apply(time_convert)"
   ],
   "metadata": {
    "collapsed": false,
    "pycharm": {
     "name": "#%%\n"
    }
   }
  },
  {
   "cell_type": "code",
   "execution_count": 139,
   "outputs": [],
   "source": [
    "for ind, row in df.iterrows():\n",
    "    hour = int(row.time[:2])\n",
    "    minute = int(row.time[3:5])\n",
    "    day = row.day + dt.timedelta(hours = hour, minutes= minute)\n",
    "    df.at[ind, \"day\"] = day\n",
    "\n",
    "df.drop(\"time\", axis=1, inplace=True)"
   ],
   "metadata": {
    "collapsed": false,
    "pycharm": {
     "name": "#%%\n"
    }
   }
  },
  {
   "cell_type": "code",
   "execution_count": 140,
   "outputs": [],
   "source": [
    "df = df[[\n",
    "    'day',\n",
    "    'year',\n",
    "    'month',\n",
    "    'date',\n",
    "    'hour',\n",
    "    'min',\n",
    "    'weekday',\n",
    "    'weekday_str',\n",
    "    'b_number',\n",
    "    'city',\n",
    "    'trip_duration',\n",
    "    'distance',\n",
    "    'orig_lat',\n",
    "    'orig_lng',\n",
    "    'dest_lat',\n",
    "    'dest_lng']]"
   ],
   "metadata": {
    "collapsed": false,
    "pycharm": {
     "name": "#%%\n"
    }
   }
  },
  {
   "cell_type": "code",
   "execution_count": 141,
   "outputs": [],
   "source": [
    "df.to_csv(r\"D:\\OneDrive - Universität zu Köln\\Uni\\AA\\Project\\aa_project\\Data\\berlin_final.csv\")"
   ],
   "metadata": {
    "collapsed": false,
    "pycharm": {
     "name": "#%%\n"
    }
   }
  }
 ],
 "metadata": {
  "kernelspec": {
   "display_name": "Python 3",
   "language": "python",
   "name": "python3"
  },
  "language_info": {
   "codemirror_mode": {
    "name": "ipython",
    "version": 2
   },
   "file_extension": ".py",
   "mimetype": "text/x-python",
   "name": "python",
   "nbconvert_exporter": "python",
   "pygments_lexer": "ipython2",
   "version": "2.7.6"
  }
 },
 "nbformat": 4,
 "nbformat_minor": 0
}