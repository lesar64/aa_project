{
 "cells": [
  {
   "cell_type": "code",
   "execution_count": 188,
   "metadata": {
    "collapsed": true
   },
   "outputs": [],
   "source": [
    "import pandas as pd\n",
    "import numpy as np\n",
    "import datetime as dt\n",
    "from yellowbrick.target import FeatureCorrelation\n",
    "from sklearn.model_selection import train_test_split\n",
    "from sklearn.preprocessing import StandardScaler\n",
    "from sklearn.neural_network import MLPRegressor\n",
    "import matplotlib.pyplot as plt\n",
    "import matplotlib.ticker as mticker\n",
    "\n",
    "path = r\"D:\\OneDrive - Universität zu Köln\\Uni\\AA\\Project\\aa_project\\Abgabe\\Data\""
   ]
  },
  {
   "cell_type": "code",
   "execution_count": 189,
   "outputs": [],
   "source": [
    "#Berlin\n",
    "df_base = pd.read_csv(path + r\"\\berlin_final.csv\")\n",
    "df_w = pd.read_csv(path + r\"\\berlin_weather.csv\")\n",
    "berlin = True\n",
    "\n",
    "# Frankfurt\n",
    "# df_base = pd.read_csv(path + r\"\\frankfurt_final.csv\")\n",
    "# df_w = pd.read_csv(path + r\"\\frankfurt_weather.csv\")\n",
    "# berlin = False\n",
    "\n",
    "df_w.drop(columns = [\"sid\", \"Unnamed: 0\"], inplace = True)\n",
    "df_w.datetime = pd.to_datetime(df_w.datetime)\n",
    "\n",
    "def get_trips(datetime):\n",
    "    return len(df_base[(df_base[\"month\"] == datetime.month) & (df_base[\"date\"] == datetime.day) & (df_base[\"hour\"] == datetime.hour)].index)"
   ],
   "metadata": {
    "collapsed": false,
    "pycharm": {
     "name": "#%%\n"
    }
   }
  },
  {
   "cell_type": "code",
   "execution_count": 190,
   "outputs": [],
   "source": [
    "df_w[\"num_trips\"] = df_w[\"datetime\"].apply(get_trips)"
   ],
   "metadata": {
    "collapsed": false,
    "pycharm": {
     "name": "#%%\n"
    }
   }
  },
  {
   "cell_type": "code",
   "execution_count": 191,
   "outputs": [],
   "source": [
    "def get_month(datetime):\n",
    "    return datetime.month\n",
    "def get_hour(datetime):\n",
    "    return datetime.hour\n",
    "def get_weekday(datetime):\n",
    "    return datetime.weekday() + 1"
   ],
   "metadata": {
    "collapsed": false,
    "pycharm": {
     "name": "#%%\n"
    }
   }
  },
  {
   "cell_type": "code",
   "execution_count": 192,
   "outputs": [],
   "source": [
    "df_w['month'] = df_w['datetime'].apply(get_month)\n",
    "df_w['hour'] = df_w['datetime'].apply(get_hour)\n",
    "df_w['weekday'] = df_w['datetime'].apply(get_weekday)\n"
   ],
   "metadata": {
    "collapsed": false,
    "pycharm": {
     "name": "#%%\n"
    }
   }
  },
  {
   "cell_type": "code",
   "execution_count": 193,
   "outputs": [],
   "source": [
    "if berlin:\n",
    "    start = dt.datetime.strptime('2019-03-15 13:00:00', '%Y-%m-%d %H:%M:%S')\n",
    "    end = dt.datetime.strptime('2019-03-19 08:00:00', '%Y-%m-%d %H:%M:%S')\n",
    "\n",
    "    df_w.drop(df_w[(df_w.datetime >= start) &\n",
    "             (df_w.datetime <= end)].index, inplace = True)"
   ],
   "metadata": {
    "collapsed": false,
    "pycharm": {
     "name": "#%%\n"
    }
   }
  },
  {
   "cell_type": "code",
   "execution_count": 194,
   "outputs": [],
   "source": [
    "df = df_w[['month', 'weekday', 'hour', 'num_trips', 'temperature', 'precipitation', 'wind_speed']] #\n",
    "df_target = df[['num_trips']]\n",
    "df_data = df.drop('num_trips', axis=1)"
   ],
   "metadata": {
    "collapsed": false,
    "pycharm": {
     "name": "#%%\n"
    }
   }
  },
  {
   "cell_type": "code",
   "execution_count": 195,
   "outputs": [
    {
     "name": "stderr",
     "output_type": "stream",
     "text": [
      "c:\\users\\janfd\\appdata\\local\\programs\\python\\python37\\lib\\site-packages\\sklearn\\base.py:213: FutureWarning: From version 0.24, get_params will raise an AttributeError if a parameter cannot be retrieved as an instance attribute. Previously it would return None.\n",
      "  FutureWarning)\n",
      "c:\\users\\janfd\\appdata\\local\\programs\\python\\python37\\lib\\site-packages\\sklearn\\utils\\validation.py:72: DataConversionWarning: A column-vector y was passed when a 1d array was expected. Please change the shape of y to (n_samples, ), for example using ravel().\n",
      "  return f(**kwargs)\n"
     ]
    },
    {
     "data": {
      "text/plain": "<Figure size 576x396 with 1 Axes>",
      "image/png": "[encoded data removed]"
     },
     "metadata": {},
     "output_type": "display_data"
    },
    {
     "data": {
      "text/plain": "<matplotlib.axes._subplots.AxesSubplot at 0x1d520db8148>"
     },
     "execution_count": 195,
     "metadata": {},
     "output_type": "execute_result"
    }
   ],
   "source": [
    "X, y = df_data, df_target\n",
    "\n",
    "features = np.array(df_data.columns)\n",
    "\n",
    "# Create a list of the discrete features\n",
    "discrete = [False for _ in range(len(features))]\n",
    "discrete[1] = True\n",
    "\n",
    "# Instantiate the visualizer\n",
    "visualizer = FeatureCorrelation(method='mutual_info-regression', labels=features)\n",
    "\n",
    "visualizer.fit(X, y, discrete_features=discrete, random_state=0)\n",
    "visualizer.show()"
   ],
   "metadata": {
    "collapsed": false,
    "pycharm": {
     "name": "#%%\n"
    }
   }
  },
  {
   "cell_type": "code",
   "execution_count": 196,
   "outputs": [
    {
     "name": "stderr",
     "output_type": "stream",
     "text": [
      "c:\\users\\janfd\\appdata\\local\\programs\\python\\python37\\lib\\site-packages\\sklearn\\utils\\validation.py:72: DataConversionWarning: A column-vector y was passed when a 1d array was expected. Please change the shape of y to (n_samples, ), for example using ravel().\n",
      "  return f(**kwargs)\n"
     ]
    },
    {
     "data": {
      "text/plain": "0.7831792783338385"
     },
     "execution_count": 196,
     "metadata": {},
     "output_type": "execute_result"
    }
   ],
   "source": [
    "X_train, X_test, y_train, y_test = train_test_split(X, y, test_size = 0.20, random_state=1)\n",
    "\n",
    "scaler = StandardScaler()\n",
    "scaler.fit(X_train)\n",
    "\n",
    "X_train = scaler.transform(X_train)\n",
    "X_test = scaler.transform(X_test)\n",
    "\n",
    "regr = MLPRegressor(hidden_layer_sizes=(20,20,20), random_state=1, max_iter=1000).fit(X_train, y_train)\n",
    "pred = regr.predict(X_test)\n",
    "\n",
    "regr.score(X_test, y_test)"
   ],
   "metadata": {
    "collapsed": false,
    "pycharm": {
     "name": "#%%\n"
    }
   }
  },
  {
   "cell_type": "code",
   "execution_count": 197,
   "outputs": [],
   "source": [
    "# pred = regr.predict(X_train)\n",
    "pred = pred.reshape(len(pred),1)"
   ],
   "metadata": {
    "collapsed": false,
    "pycharm": {
     "name": "#%%\n"
    }
   }
  },
  {
   "cell_type": "code",
   "execution_count": 198,
   "outputs": [
    {
     "data": {
      "text/plain": "<Figure size 576x396 with 1 Axes>",
      "image/png": "[encoded data removed]"
     },
     "metadata": {},
     "output_type": "display_data"
    }
   ],
   "source": [
    "df_plot = pd.DataFrame()\n",
    "df_plot['hour'] = X_test[:, 2]\n",
    "df_plot['target'] = y_test.reset_index(drop=True)\n",
    "df_plot['pred'] = pred\n",
    "df_plot = df_plot.groupby(df_plot.hour).mean()\n",
    "df_plot.sort_index(inplace=True)\n",
    "plt.plot(df_plot.hour, df_plot.target, label='Trips in each hour')\n",
    "plt.plot(df_plot.hour, df_plot.pred, label='Pred. Trips in each hour')\n",
    "plt.ylabel('Trips')\n",
    "plt.xlabel('Time')\n",
    "# plt.xlim(0, 23)\n",
    "# plt.gca().xaxis.set_major_locator(mticker.MultipleLocator(1))\n",
    "# plt.savefig('trip_hour.png')\n",
    "plt.show()"
   ],
   "metadata": {
    "collapsed": false,
    "pycharm": {
     "name": "#%%\n"
    }
   }
  }
 ],
 "metadata": {
  "kernelspec": {
   "display_name": "Python 3",
   "language": "python",
   "name": "python3"
  },
  "language_info": {
   "codemirror_mode": {
    "name": "ipython",
    "version": 2
   },
   "file_extension": ".py",
   "mimetype": "text/x-python",
   "name": "python",
   "nbconvert_exporter": "python",
   "pygments_lexer": "ipython2",
   "version": "2.7.6"
  }
 },
 "nbformat": 4,
 "nbformat_minor": 0
}