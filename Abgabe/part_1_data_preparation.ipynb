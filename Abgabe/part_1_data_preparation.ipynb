{
 "cells": [
  {
   "cell_type": "markdown",
   "metadata": {},
   "source": [
    "# Next Bike - Analytics and Applications – Team Assignment "
   ]
  },
  {
   "cell_type": "markdown",
   "metadata": {},
   "source": [
    "### Basic Desciption\n",
    "\n",
    "In the following notebooks, the next bike for the cities of Berlin and Frankfurt (Main) are analyzed. For this purpose, the notebooks are divided into X Parts and the respective intermediate results are saved so that they can also be executed independently of each other. \n",
    "\n",
    "    Part 1: Data Preparation\n",
    "    Part 2: Descriptive Analytics\n",
    "    Part 3: Cluster Analytics\n",
    "    Part 4: Predictive Analytics\n",
    "\n",
    "For running the different notebooks, following python libraries ould be installed on your computer, since these are used in the context of this elaboration: \n",
    "1. Pandas\n",
    "2. ...\n",
    "3. ...\n"
   ]
  },
  {
   "cell_type": "markdown",
   "metadata": {},
   "source": [
    "# Part 1: Data Preparation\n",
    "In this elaboration, the next bike data of the cities Berlin and Frankfurt (Main) from 02/01/2019 to 06/30/2019 are referred to. For this purpose, the data in Part 1 are prepared so that they are useful for use in the other parts."
   ]
  },
  {
   "cell_type": "code",
   "execution_count": 1,
   "metadata": {},
   "outputs": [],
   "source": [
    "import pandas as pd\n",
    "import datetime as dt\n",
    "from datetime import date\n",
    "import calendar\n",
    "import geopy.distance as gpd\n",
    "from math import radians, cos, sin, asin, sqrt"
   ]
  },
  {
   "cell_type": "markdown",
   "metadata": {},
   "source": [
    "# 1. Cleaning the ride sets"
   ]
  },
  {
   "cell_type": "code",
   "execution_count": 43,
   "metadata": {
    "pycharm": {
     "name": "#%%\n"
    }
   },
   "outputs": [],
   "source": [
    "# importing the data sets for the cities berlin and frankfurt\n",
    "df_b = pd.read_csv(r\"C:\\Users\\geibe\\Desktop\\aa_project-main\\Abgabe\\Data\\raw\\berlin.csv\") # berlin\n",
    "df_f = pd.read_csv(r\"C:\\Users\\geibe\\Desktop\\aa_project-main\\Abgabe\\Data\\raw\\frankfurt.csv\") # frankfurt"
   ]
  },
  {
   "cell_type": "markdown",
   "metadata": {},
   "source": [
    "## 1.1 Looking at the given data"
   ]
  },
  {
   "cell_type": "markdown",
   "metadata": {},
   "source": [
    "### Berlin:"
   ]
  },
  {
   "cell_type": "code",
   "execution_count": 3,
   "metadata": {},
   "outputs": [
    {
     "data": {
      "text/html": [
       "<div>\n",
       "<style scoped>\n",
       "    .dataframe tbody tr th:only-of-type {\n",
       "        vertical-align: middle;\n",
       "    }\n",
       "\n",
       "    .dataframe tbody tr th {\n",
       "        vertical-align: top;\n",
       "    }\n",
       "\n",
       "    .dataframe thead th {\n",
       "        text-align: right;\n",
       "    }\n",
       "</style>\n",
       "<table border=\"1\" class=\"dataframe\">\n",
       "  <thead>\n",
       "    <tr style=\"text-align: right;\">\n",
       "      <th></th>\n",
       "      <th>day</th>\n",
       "      <th>time</th>\n",
       "      <th>b_number</th>\n",
       "      <th>city</th>\n",
       "      <th>trip_duration</th>\n",
       "      <th>orig_lat</th>\n",
       "      <th>orig_lng</th>\n",
       "      <th>dest_lat</th>\n",
       "      <th>dest_lng</th>\n",
       "    </tr>\n",
       "  </thead>\n",
       "  <tbody>\n",
       "    <tr>\n",
       "      <th>0</th>\n",
       "      <td>2019-02-16</td>\n",
       "      <td>14:53:00</td>\n",
       "      <td>13001</td>\n",
       "      <td>berlin</td>\n",
       "      <td>0 days 00:21:00.000000000</td>\n",
       "      <td>52.505076</td>\n",
       "      <td>13.414721</td>\n",
       "      <td>52.534591</td>\n",
       "      <td>13.452043</td>\n",
       "    </tr>\n",
       "    <tr>\n",
       "      <th>1</th>\n",
       "      <td>2019-02-16</td>\n",
       "      <td>17:22:00</td>\n",
       "      <td>13001</td>\n",
       "      <td>berlin</td>\n",
       "      <td>0 days 00:27:00.000000000</td>\n",
       "      <td>52.534591</td>\n",
       "      <td>13.452043</td>\n",
       "      <td>52.504621</td>\n",
       "      <td>13.415686</td>\n",
       "    </tr>\n",
       "    <tr>\n",
       "      <th>2</th>\n",
       "      <td>2019-02-16</td>\n",
       "      <td>23:29:00</td>\n",
       "      <td>13001</td>\n",
       "      <td>berlin</td>\n",
       "      <td>0 days 00:22:00.000000000</td>\n",
       "      <td>52.504621</td>\n",
       "      <td>13.415686</td>\n",
       "      <td>52.528998</td>\n",
       "      <td>13.456997</td>\n",
       "    </tr>\n",
       "    <tr>\n",
       "      <th>3</th>\n",
       "      <td>2019-02-18</td>\n",
       "      <td>17:49:00</td>\n",
       "      <td>13001</td>\n",
       "      <td>berlin</td>\n",
       "      <td>0 days 00:15:00.000000000</td>\n",
       "      <td>52.528998</td>\n",
       "      <td>13.456997</td>\n",
       "      <td>52.536231</td>\n",
       "      <td>13.432285</td>\n",
       "    </tr>\n",
       "    <tr>\n",
       "      <th>4</th>\n",
       "      <td>2019-02-19</td>\n",
       "      <td>13:08:00</td>\n",
       "      <td>13001</td>\n",
       "      <td>berlin</td>\n",
       "      <td>0 days 00:09:00.000000000</td>\n",
       "      <td>52.536231</td>\n",
       "      <td>13.432285</td>\n",
       "      <td>52.543311</td>\n",
       "      <td>13.441611</td>\n",
       "    </tr>\n",
       "  </tbody>\n",
       "</table>\n",
       "</div>"
      ],
      "text/plain": [
       "          day      time  b_number    city              trip_duration  \\\n",
       "0  2019-02-16  14:53:00     13001  berlin  0 days 00:21:00.000000000   \n",
       "1  2019-02-16  17:22:00     13001  berlin  0 days 00:27:00.000000000   \n",
       "2  2019-02-16  23:29:00     13001  berlin  0 days 00:22:00.000000000   \n",
       "3  2019-02-18  17:49:00     13001  berlin  0 days 00:15:00.000000000   \n",
       "4  2019-02-19  13:08:00     13001  berlin  0 days 00:09:00.000000000   \n",
       "\n",
       "    orig_lat   orig_lng   dest_lat   dest_lng  \n",
       "0  52.505076  13.414721  52.534591  13.452043  \n",
       "1  52.534591  13.452043  52.504621  13.415686  \n",
       "2  52.504621  13.415686  52.528998  13.456997  \n",
       "3  52.528998  13.456997  52.536231  13.432285  \n",
       "4  52.536231  13.432285  52.543311  13.441611  "
      ]
     },
     "execution_count": 3,
     "metadata": {},
     "output_type": "execute_result"
    }
   ],
   "source": [
    "df_b.head(5)"
   ]
  },
  {
   "cell_type": "code",
   "execution_count": 4,
   "metadata": {},
   "outputs": [
    {
     "name": "stdout",
     "output_type": "stream",
     "text": [
      "<class 'pandas.core.frame.DataFrame'>\n",
      "RangeIndex: 215081 entries, 0 to 215080\n",
      "Data columns (total 9 columns):\n",
      " #   Column         Non-Null Count   Dtype  \n",
      "---  ------         --------------   -----  \n",
      " 0   day            215081 non-null  object \n",
      " 1   time           215081 non-null  object \n",
      " 2   b_number       215081 non-null  int64  \n",
      " 3   city           215081 non-null  object \n",
      " 4   trip_duration  215081 non-null  object \n",
      " 5   orig_lat       215081 non-null  float64\n",
      " 6   orig_lng       215081 non-null  float64\n",
      " 7   dest_lat       215081 non-null  float64\n",
      " 8   dest_lng       215081 non-null  float64\n",
      "dtypes: float64(4), int64(1), object(4)\n",
      "memory usage: 14.8+ MB\n"
     ]
    }
   ],
   "source": [
    "df_b.info()"
   ]
  },
  {
   "cell_type": "markdown",
   "metadata": {},
   "source": [
    "The Berlin data set includes next bike rental data for the period 02/01/2019 to 06/30/2019. It also includes start and destination of each trip as well as duration. \n",
    "The data set has 215.081 entries."
   ]
  },
  {
   "cell_type": "markdown",
   "metadata": {},
   "source": [
    "### Frankfurt (Main):"
   ]
  },
  {
   "cell_type": "code",
   "execution_count": 5,
   "metadata": {},
   "outputs": [
    {
     "data": {
      "text/html": [
       "<div>\n",
       "<style scoped>\n",
       "    .dataframe tbody tr th:only-of-type {\n",
       "        vertical-align: middle;\n",
       "    }\n",
       "\n",
       "    .dataframe tbody tr th {\n",
       "        vertical-align: top;\n",
       "    }\n",
       "\n",
       "    .dataframe thead th {\n",
       "        text-align: right;\n",
       "    }\n",
       "</style>\n",
       "<table border=\"1\" class=\"dataframe\">\n",
       "  <thead>\n",
       "    <tr style=\"text-align: right;\">\n",
       "      <th></th>\n",
       "      <th>day</th>\n",
       "      <th>time</th>\n",
       "      <th>b_number</th>\n",
       "      <th>city</th>\n",
       "      <th>trip_duration</th>\n",
       "      <th>orig_lat</th>\n",
       "      <th>orig_lng</th>\n",
       "      <th>dest_lat</th>\n",
       "      <th>dest_lng</th>\n",
       "    </tr>\n",
       "  </thead>\n",
       "  <tbody>\n",
       "    <tr>\n",
       "      <th>0</th>\n",
       "      <td>2019-06-25</td>\n",
       "      <td>21:51:00</td>\n",
       "      <td>11420</td>\n",
       "      <td>frankfurt</td>\n",
       "      <td>0 days 00:07:00.000000000</td>\n",
       "      <td>49.991072</td>\n",
       "      <td>8.412515</td>\n",
       "      <td>49.984942</td>\n",
       "      <td>8.409474</td>\n",
       "    </tr>\n",
       "    <tr>\n",
       "      <th>1</th>\n",
       "      <td>2019-06-26</td>\n",
       "      <td>06:33:00</td>\n",
       "      <td>11420</td>\n",
       "      <td>frankfurt</td>\n",
       "      <td>0 days 00:14:00.000000000</td>\n",
       "      <td>49.984942</td>\n",
       "      <td>8.409474</td>\n",
       "      <td>49.985673</td>\n",
       "      <td>8.424641</td>\n",
       "    </tr>\n",
       "    <tr>\n",
       "      <th>2</th>\n",
       "      <td>2019-06-27</td>\n",
       "      <td>13:20:00</td>\n",
       "      <td>11420</td>\n",
       "      <td>frankfurt</td>\n",
       "      <td>0 days 00:07:00.000000000</td>\n",
       "      <td>49.985613</td>\n",
       "      <td>8.424448</td>\n",
       "      <td>49.985538</td>\n",
       "      <td>8.424533</td>\n",
       "    </tr>\n",
       "    <tr>\n",
       "      <th>3</th>\n",
       "      <td>2019-06-27</td>\n",
       "      <td>13:30:00</td>\n",
       "      <td>11420</td>\n",
       "      <td>frankfurt</td>\n",
       "      <td>0 days 00:04:00.000000000</td>\n",
       "      <td>49.985528</td>\n",
       "      <td>8.424512</td>\n",
       "      <td>49.985679</td>\n",
       "      <td>8.424603</td>\n",
       "    </tr>\n",
       "    <tr>\n",
       "      <th>4</th>\n",
       "      <td>2019-06-27</td>\n",
       "      <td>13:59:00</td>\n",
       "      <td>11420</td>\n",
       "      <td>frankfurt</td>\n",
       "      <td>0 days 00:09:00.000000000</td>\n",
       "      <td>49.985679</td>\n",
       "      <td>8.424603</td>\n",
       "      <td>49.985636</td>\n",
       "      <td>8.424570</td>\n",
       "    </tr>\n",
       "  </tbody>\n",
       "</table>\n",
       "</div>"
      ],
      "text/plain": [
       "          day      time  b_number       city              trip_duration  \\\n",
       "0  2019-06-25  21:51:00     11420  frankfurt  0 days 00:07:00.000000000   \n",
       "1  2019-06-26  06:33:00     11420  frankfurt  0 days 00:14:00.000000000   \n",
       "2  2019-06-27  13:20:00     11420  frankfurt  0 days 00:07:00.000000000   \n",
       "3  2019-06-27  13:30:00     11420  frankfurt  0 days 00:04:00.000000000   \n",
       "4  2019-06-27  13:59:00     11420  frankfurt  0 days 00:09:00.000000000   \n",
       "\n",
       "    orig_lat  orig_lng   dest_lat  dest_lng  \n",
       "0  49.991072  8.412515  49.984942  8.409474  \n",
       "1  49.984942  8.409474  49.985673  8.424641  \n",
       "2  49.985613  8.424448  49.985538  8.424533  \n",
       "3  49.985528  8.424512  49.985679  8.424603  \n",
       "4  49.985679  8.424603  49.985636  8.424570  "
      ]
     },
     "execution_count": 5,
     "metadata": {},
     "output_type": "execute_result"
    }
   ],
   "source": [
    "df_f.head(5)"
   ]
  },
  {
   "cell_type": "code",
   "execution_count": 6,
   "metadata": {},
   "outputs": [
    {
     "name": "stdout",
     "output_type": "stream",
     "text": [
      "<class 'pandas.core.frame.DataFrame'>\n",
      "RangeIndex: 20062 entries, 0 to 20061\n",
      "Data columns (total 9 columns):\n",
      " #   Column         Non-Null Count  Dtype  \n",
      "---  ------         --------------  -----  \n",
      " 0   day            20062 non-null  object \n",
      " 1   time           20062 non-null  object \n",
      " 2   b_number       20062 non-null  int64  \n",
      " 3   city           20062 non-null  object \n",
      " 4   trip_duration  20062 non-null  object \n",
      " 5   orig_lat       20062 non-null  float64\n",
      " 6   orig_lng       20062 non-null  float64\n",
      " 7   dest_lat       20062 non-null  float64\n",
      " 8   dest_lng       20062 non-null  float64\n",
      "dtypes: float64(4), int64(1), object(4)\n",
      "memory usage: 1.4+ MB\n"
     ]
    }
   ],
   "source": [
    "df_f.info()"
   ]
  },
  {
   "cell_type": "markdown",
   "metadata": {},
   "source": [
    "The Frankfurt (Main) data set includes next bike rental data for the period 02/01/2019 to 06/30/2019. It also includes start and destination of each trip as well as duration. \n",
    "The data set has 20.062 entries what makes the Berlin data 10 times larger than this."
   ]
  },
  {
   "cell_type": "markdown",
   "metadata": {},
   "source": [
    "## 1.2 Basic changes"
   ]
  },
  {
   "cell_type": "code",
   "execution_count": 7,
   "metadata": {
    "pycharm": {
     "name": "#%%\n"
    }
   },
   "outputs": [],
   "source": [
    "# change data type to datetime\n",
    "df_b.day = pd.to_datetime(df_b.day)\n",
    "df_f.day = pd.to_datetime(df_f.day)"
   ]
  },
  {
   "cell_type": "markdown",
   "metadata": {},
   "source": [
    "### Berlin:"
   ]
  },
  {
   "cell_type": "code",
   "execution_count": 8,
   "metadata": {
    "pycharm": {
     "name": "#%%\n"
    }
   },
   "outputs": [
    {
     "data": {
      "text/html": [
       "<div>\n",
       "<style scoped>\n",
       "    .dataframe tbody tr th:only-of-type {\n",
       "        vertical-align: middle;\n",
       "    }\n",
       "\n",
       "    .dataframe tbody tr th {\n",
       "        vertical-align: top;\n",
       "    }\n",
       "\n",
       "    .dataframe thead th {\n",
       "        text-align: right;\n",
       "    }\n",
       "</style>\n",
       "<table border=\"1\" class=\"dataframe\">\n",
       "  <thead>\n",
       "    <tr style=\"text-align: right;\">\n",
       "      <th></th>\n",
       "      <th>day</th>\n",
       "      <th>time</th>\n",
       "      <th>b_number</th>\n",
       "      <th>city</th>\n",
       "      <th>trip_duration</th>\n",
       "      <th>orig_lat</th>\n",
       "      <th>orig_lng</th>\n",
       "      <th>dest_lat</th>\n",
       "      <th>dest_lng</th>\n",
       "    </tr>\n",
       "  </thead>\n",
       "  <tbody>\n",
       "    <tr>\n",
       "      <th>0</th>\n",
       "      <td>2019-02-16</td>\n",
       "      <td>14:53:00</td>\n",
       "      <td>13001</td>\n",
       "      <td>berlin</td>\n",
       "      <td>0 days 00:21:00.000000000</td>\n",
       "      <td>52.505076</td>\n",
       "      <td>13.414721</td>\n",
       "      <td>52.534591</td>\n",
       "      <td>13.452043</td>\n",
       "    </tr>\n",
       "    <tr>\n",
       "      <th>1</th>\n",
       "      <td>2019-02-16</td>\n",
       "      <td>17:22:00</td>\n",
       "      <td>13001</td>\n",
       "      <td>berlin</td>\n",
       "      <td>0 days 00:27:00.000000000</td>\n",
       "      <td>52.534591</td>\n",
       "      <td>13.452043</td>\n",
       "      <td>52.504621</td>\n",
       "      <td>13.415686</td>\n",
       "    </tr>\n",
       "    <tr>\n",
       "      <th>2</th>\n",
       "      <td>2019-02-16</td>\n",
       "      <td>23:29:00</td>\n",
       "      <td>13001</td>\n",
       "      <td>berlin</td>\n",
       "      <td>0 days 00:22:00.000000000</td>\n",
       "      <td>52.504621</td>\n",
       "      <td>13.415686</td>\n",
       "      <td>52.528998</td>\n",
       "      <td>13.456997</td>\n",
       "    </tr>\n",
       "    <tr>\n",
       "      <th>3</th>\n",
       "      <td>2019-02-18</td>\n",
       "      <td>17:49:00</td>\n",
       "      <td>13001</td>\n",
       "      <td>berlin</td>\n",
       "      <td>0 days 00:15:00.000000000</td>\n",
       "      <td>52.528998</td>\n",
       "      <td>13.456997</td>\n",
       "      <td>52.536231</td>\n",
       "      <td>13.432285</td>\n",
       "    </tr>\n",
       "    <tr>\n",
       "      <th>4</th>\n",
       "      <td>2019-02-19</td>\n",
       "      <td>13:08:00</td>\n",
       "      <td>13001</td>\n",
       "      <td>berlin</td>\n",
       "      <td>0 days 00:09:00.000000000</td>\n",
       "      <td>52.536231</td>\n",
       "      <td>13.432285</td>\n",
       "      <td>52.543311</td>\n",
       "      <td>13.441611</td>\n",
       "    </tr>\n",
       "    <tr>\n",
       "      <th>...</th>\n",
       "      <td>...</td>\n",
       "      <td>...</td>\n",
       "      <td>...</td>\n",
       "      <td>...</td>\n",
       "      <td>...</td>\n",
       "      <td>...</td>\n",
       "      <td>...</td>\n",
       "      <td>...</td>\n",
       "      <td>...</td>\n",
       "    </tr>\n",
       "    <tr>\n",
       "      <th>215076</th>\n",
       "      <td>2019-05-13</td>\n",
       "      <td>09:57:00</td>\n",
       "      <td>30186</td>\n",
       "      <td>berlin</td>\n",
       "      <td>0 days 00:13:00.000000000</td>\n",
       "      <td>52.534774</td>\n",
       "      <td>13.346862</td>\n",
       "      <td>52.534924</td>\n",
       "      <td>13.347056</td>\n",
       "    </tr>\n",
       "    <tr>\n",
       "      <th>215077</th>\n",
       "      <td>2019-04-01</td>\n",
       "      <td>16:20:00</td>\n",
       "      <td>33140</td>\n",
       "      <td>berlin</td>\n",
       "      <td>0 days 00:50:00.000000000</td>\n",
       "      <td>52.507288</td>\n",
       "      <td>13.333964</td>\n",
       "      <td>52.505247</td>\n",
       "      <td>13.327885</td>\n",
       "    </tr>\n",
       "    <tr>\n",
       "      <th>215078</th>\n",
       "      <td>2019-05-10</td>\n",
       "      <td>10:59:00</td>\n",
       "      <td>38671</td>\n",
       "      <td>berlin</td>\n",
       "      <td>0 days 00:05:00.000000000</td>\n",
       "      <td>50.813178</td>\n",
       "      <td>8.775800</td>\n",
       "      <td>50.814100</td>\n",
       "      <td>8.770868</td>\n",
       "    </tr>\n",
       "    <tr>\n",
       "      <th>215079</th>\n",
       "      <td>2019-06-18</td>\n",
       "      <td>19:21:00</td>\n",
       "      <td>99851</td>\n",
       "      <td>berlin</td>\n",
       "      <td>0 days 00:03:00.000000000</td>\n",
       "      <td>52.494436</td>\n",
       "      <td>13.379319</td>\n",
       "      <td>52.497192</td>\n",
       "      <td>13.380079</td>\n",
       "    </tr>\n",
       "    <tr>\n",
       "      <th>215080</th>\n",
       "      <td>2019-06-19</td>\n",
       "      <td>15:43:00</td>\n",
       "      <td>99909</td>\n",
       "      <td>berlin</td>\n",
       "      <td>0 days 00:04:00.000000000</td>\n",
       "      <td>52.535013</td>\n",
       "      <td>13.347290</td>\n",
       "      <td>52.534947</td>\n",
       "      <td>13.347106</td>\n",
       "    </tr>\n",
       "  </tbody>\n",
       "</table>\n",
       "<p>215081 rows × 9 columns</p>\n",
       "</div>"
      ],
      "text/plain": [
       "              day      time  b_number    city              trip_duration  \\\n",
       "0      2019-02-16  14:53:00     13001  berlin  0 days 00:21:00.000000000   \n",
       "1      2019-02-16  17:22:00     13001  berlin  0 days 00:27:00.000000000   \n",
       "2      2019-02-16  23:29:00     13001  berlin  0 days 00:22:00.000000000   \n",
       "3      2019-02-18  17:49:00     13001  berlin  0 days 00:15:00.000000000   \n",
       "4      2019-02-19  13:08:00     13001  berlin  0 days 00:09:00.000000000   \n",
       "...           ...       ...       ...     ...                        ...   \n",
       "215076 2019-05-13  09:57:00     30186  berlin  0 days 00:13:00.000000000   \n",
       "215077 2019-04-01  16:20:00     33140  berlin  0 days 00:50:00.000000000   \n",
       "215078 2019-05-10  10:59:00     38671  berlin  0 days 00:05:00.000000000   \n",
       "215079 2019-06-18  19:21:00     99851  berlin  0 days 00:03:00.000000000   \n",
       "215080 2019-06-19  15:43:00     99909  berlin  0 days 00:04:00.000000000   \n",
       "\n",
       "         orig_lat   orig_lng   dest_lat   dest_lng  \n",
       "0       52.505076  13.414721  52.534591  13.452043  \n",
       "1       52.534591  13.452043  52.504621  13.415686  \n",
       "2       52.504621  13.415686  52.528998  13.456997  \n",
       "3       52.528998  13.456997  52.536231  13.432285  \n",
       "4       52.536231  13.432285  52.543311  13.441611  \n",
       "...           ...        ...        ...        ...  \n",
       "215076  52.534774  13.346862  52.534924  13.347056  \n",
       "215077  52.507288  13.333964  52.505247  13.327885  \n",
       "215078  50.813178   8.775800  50.814100   8.770868  \n",
       "215079  52.494436  13.379319  52.497192  13.380079  \n",
       "215080  52.535013  13.347290  52.534947  13.347106  \n",
       "\n",
       "[215081 rows x 9 columns]"
      ]
     },
     "execution_count": 8,
     "metadata": {},
     "output_type": "execute_result"
    }
   ],
   "source": [
    "df_b.dropna(axis=0)"
   ]
  },
  {
   "cell_type": "markdown",
   "metadata": {},
   "source": [
    "### Frankfurt (Main):"
   ]
  },
  {
   "cell_type": "code",
   "execution_count": 9,
   "metadata": {},
   "outputs": [
    {
     "data": {
      "text/html": [
       "<div>\n",
       "<style scoped>\n",
       "    .dataframe tbody tr th:only-of-type {\n",
       "        vertical-align: middle;\n",
       "    }\n",
       "\n",
       "    .dataframe tbody tr th {\n",
       "        vertical-align: top;\n",
       "    }\n",
       "\n",
       "    .dataframe thead th {\n",
       "        text-align: right;\n",
       "    }\n",
       "</style>\n",
       "<table border=\"1\" class=\"dataframe\">\n",
       "  <thead>\n",
       "    <tr style=\"text-align: right;\">\n",
       "      <th></th>\n",
       "      <th>day</th>\n",
       "      <th>time</th>\n",
       "      <th>b_number</th>\n",
       "      <th>city</th>\n",
       "      <th>trip_duration</th>\n",
       "      <th>orig_lat</th>\n",
       "      <th>orig_lng</th>\n",
       "      <th>dest_lat</th>\n",
       "      <th>dest_lng</th>\n",
       "    </tr>\n",
       "  </thead>\n",
       "  <tbody>\n",
       "    <tr>\n",
       "      <th>0</th>\n",
       "      <td>2019-06-25</td>\n",
       "      <td>21:51:00</td>\n",
       "      <td>11420</td>\n",
       "      <td>frankfurt</td>\n",
       "      <td>0 days 00:07:00.000000000</td>\n",
       "      <td>49.991072</td>\n",
       "      <td>8.412515</td>\n",
       "      <td>49.984942</td>\n",
       "      <td>8.409474</td>\n",
       "    </tr>\n",
       "    <tr>\n",
       "      <th>1</th>\n",
       "      <td>2019-06-26</td>\n",
       "      <td>06:33:00</td>\n",
       "      <td>11420</td>\n",
       "      <td>frankfurt</td>\n",
       "      <td>0 days 00:14:00.000000000</td>\n",
       "      <td>49.984942</td>\n",
       "      <td>8.409474</td>\n",
       "      <td>49.985673</td>\n",
       "      <td>8.424641</td>\n",
       "    </tr>\n",
       "    <tr>\n",
       "      <th>2</th>\n",
       "      <td>2019-06-27</td>\n",
       "      <td>13:20:00</td>\n",
       "      <td>11420</td>\n",
       "      <td>frankfurt</td>\n",
       "      <td>0 days 00:07:00.000000000</td>\n",
       "      <td>49.985613</td>\n",
       "      <td>8.424448</td>\n",
       "      <td>49.985538</td>\n",
       "      <td>8.424533</td>\n",
       "    </tr>\n",
       "    <tr>\n",
       "      <th>3</th>\n",
       "      <td>2019-06-27</td>\n",
       "      <td>13:30:00</td>\n",
       "      <td>11420</td>\n",
       "      <td>frankfurt</td>\n",
       "      <td>0 days 00:04:00.000000000</td>\n",
       "      <td>49.985528</td>\n",
       "      <td>8.424512</td>\n",
       "      <td>49.985679</td>\n",
       "      <td>8.424603</td>\n",
       "    </tr>\n",
       "    <tr>\n",
       "      <th>4</th>\n",
       "      <td>2019-06-27</td>\n",
       "      <td>13:59:00</td>\n",
       "      <td>11420</td>\n",
       "      <td>frankfurt</td>\n",
       "      <td>0 days 00:09:00.000000000</td>\n",
       "      <td>49.985679</td>\n",
       "      <td>8.424603</td>\n",
       "      <td>49.985636</td>\n",
       "      <td>8.424570</td>\n",
       "    </tr>\n",
       "    <tr>\n",
       "      <th>...</th>\n",
       "      <td>...</td>\n",
       "      <td>...</td>\n",
       "      <td>...</td>\n",
       "      <td>...</td>\n",
       "      <td>...</td>\n",
       "      <td>...</td>\n",
       "      <td>...</td>\n",
       "      <td>...</td>\n",
       "      <td>...</td>\n",
       "    </tr>\n",
       "    <tr>\n",
       "      <th>20057</th>\n",
       "      <td>2019-05-07</td>\n",
       "      <td>09:36:00</td>\n",
       "      <td>91229</td>\n",
       "      <td>frankfurt</td>\n",
       "      <td>0 days 02:12:00.000000000</td>\n",
       "      <td>50.585947</td>\n",
       "      <td>8.683895</td>\n",
       "      <td>50.583418</td>\n",
       "      <td>8.673678</td>\n",
       "    </tr>\n",
       "    <tr>\n",
       "      <th>20058</th>\n",
       "      <td>2019-05-07</td>\n",
       "      <td>12:00:00</td>\n",
       "      <td>91229</td>\n",
       "      <td>frankfurt</td>\n",
       "      <td>0 days 00:11:00.000000000</td>\n",
       "      <td>50.583418</td>\n",
       "      <td>8.673678</td>\n",
       "      <td>50.573378</td>\n",
       "      <td>8.700063</td>\n",
       "    </tr>\n",
       "    <tr>\n",
       "      <th>20059</th>\n",
       "      <td>2019-05-07</td>\n",
       "      <td>14:04:00</td>\n",
       "      <td>91229</td>\n",
       "      <td>frankfurt</td>\n",
       "      <td>0 days 00:16:00.000000000</td>\n",
       "      <td>50.572982</td>\n",
       "      <td>8.700078</td>\n",
       "      <td>50.580484</td>\n",
       "      <td>8.664531</td>\n",
       "    </tr>\n",
       "    <tr>\n",
       "      <th>20060</th>\n",
       "      <td>2019-05-07</td>\n",
       "      <td>19:54:00</td>\n",
       "      <td>91229</td>\n",
       "      <td>frankfurt</td>\n",
       "      <td>0 days 00:10:00.000000000</td>\n",
       "      <td>50.580916</td>\n",
       "      <td>8.664705</td>\n",
       "      <td>50.582658</td>\n",
       "      <td>8.680114</td>\n",
       "    </tr>\n",
       "    <tr>\n",
       "      <th>20061</th>\n",
       "      <td>2019-05-08</td>\n",
       "      <td>04:17:00</td>\n",
       "      <td>91229</td>\n",
       "      <td>frankfurt</td>\n",
       "      <td>0 days 00:08:00.000000000</td>\n",
       "      <td>50.583764</td>\n",
       "      <td>8.680127</td>\n",
       "      <td>50.575929</td>\n",
       "      <td>8.693904</td>\n",
       "    </tr>\n",
       "  </tbody>\n",
       "</table>\n",
       "<p>20062 rows × 9 columns</p>\n",
       "</div>"
      ],
      "text/plain": [
       "             day      time  b_number       city              trip_duration  \\\n",
       "0     2019-06-25  21:51:00     11420  frankfurt  0 days 00:07:00.000000000   \n",
       "1     2019-06-26  06:33:00     11420  frankfurt  0 days 00:14:00.000000000   \n",
       "2     2019-06-27  13:20:00     11420  frankfurt  0 days 00:07:00.000000000   \n",
       "3     2019-06-27  13:30:00     11420  frankfurt  0 days 00:04:00.000000000   \n",
       "4     2019-06-27  13:59:00     11420  frankfurt  0 days 00:09:00.000000000   \n",
       "...          ...       ...       ...        ...                        ...   \n",
       "20057 2019-05-07  09:36:00     91229  frankfurt  0 days 02:12:00.000000000   \n",
       "20058 2019-05-07  12:00:00     91229  frankfurt  0 days 00:11:00.000000000   \n",
       "20059 2019-05-07  14:04:00     91229  frankfurt  0 days 00:16:00.000000000   \n",
       "20060 2019-05-07  19:54:00     91229  frankfurt  0 days 00:10:00.000000000   \n",
       "20061 2019-05-08  04:17:00     91229  frankfurt  0 days 00:08:00.000000000   \n",
       "\n",
       "        orig_lat  orig_lng   dest_lat  dest_lng  \n",
       "0      49.991072  8.412515  49.984942  8.409474  \n",
       "1      49.984942  8.409474  49.985673  8.424641  \n",
       "2      49.985613  8.424448  49.985538  8.424533  \n",
       "3      49.985528  8.424512  49.985679  8.424603  \n",
       "4      49.985679  8.424603  49.985636  8.424570  \n",
       "...          ...       ...        ...       ...  \n",
       "20057  50.585947  8.683895  50.583418  8.673678  \n",
       "20058  50.583418  8.673678  50.573378  8.700063  \n",
       "20059  50.572982  8.700078  50.580484  8.664531  \n",
       "20060  50.580916  8.664705  50.582658  8.680114  \n",
       "20061  50.583764  8.680127  50.575929  8.693904  \n",
       "\n",
       "[20062 rows x 9 columns]"
      ]
     },
     "execution_count": 9,
     "metadata": {},
     "output_type": "execute_result"
    }
   ],
   "source": [
    "df_f.dropna(axis=0)"
   ]
  },
  {
   "cell_type": "markdown",
   "metadata": {},
   "source": [
    "## 1.3 Adding weekdays\n",
    "Here we add the weekday to each rental to work with this in the following parts of this examination."
   ]
  },
  {
   "cell_type": "markdown",
   "metadata": {},
   "source": [
    "### Berlin:"
   ]
  },
  {
   "cell_type": "code",
   "execution_count": 10,
   "metadata": {
    "pycharm": {
     "name": "#%%\n"
    }
   },
   "outputs": [],
   "source": [
    "for ind, row in df_b.iterrows():\n",
    "    df_b.loc[ind, \"weekday_str\"] = calendar.day_name[row['day'].weekday()]\n",
    "\n",
    "df_b[\"weekday\"] = [d.weekday()+1 for d in df_b['day']]"
   ]
  },
  {
   "cell_type": "markdown",
   "metadata": {},
   "source": [
    "### Frankfurt (Main):"
   ]
  },
  {
   "cell_type": "code",
   "execution_count": 11,
   "metadata": {},
   "outputs": [],
   "source": [
    "for ind, row in df_f.iterrows():\n",
    "    df_f.loc[ind, \"weekday_str\"] = calendar.day_name[row['day'].weekday()]\n",
    "\n",
    "df_f[\"weekday\"] = [d.weekday()+1 for d in df_f['day']]"
   ]
  },
  {
   "cell_type": "markdown",
   "metadata": {},
   "source": [
    "## 1.4 Adding the distance of start and destination"
   ]
  },
  {
   "cell_type": "code",
   "execution_count": 12,
   "metadata": {
    "pycharm": {
     "name": "#%%\n"
    }
   },
   "outputs": [],
   "source": [
    "# Calculating the linear distance between start and destination\n",
    "def haversine(lon1, lat1, lon2, lat2):\n",
    "    lon1, lat1, lon2, lat2 = map(radians, [lon1, lat1, lon2, lat2])\n",
    "\n",
    "  # haversine formula\n",
    "    dlon = lon2 - lon1\n",
    "    dlat = lat2 - lat1\n",
    "    a = sin(dlat/2)**2 + cos(lat1) * cos(lat2) * sin(dlon/2)**2\n",
    "    c = 2 * asin(sqrt(a))\n",
    "    r = 6371 # Radius of earth in kilometers\n",
    "    \n",
    "    return c * r"
   ]
  },
  {
   "cell_type": "markdown",
   "metadata": {},
   "source": [
    "### Berlin:"
   ]
  },
  {
   "cell_type": "code",
   "execution_count": 13,
   "metadata": {
    "pycharm": {
     "name": "#%%\n"
    }
   },
   "outputs": [],
   "source": [
    "for ind, row in df_b.iterrows():\n",
    "    df_b.loc[ind, \"distance\"] = haversine(row['orig_lng'], row['orig_lat'], row['dest_lng'], row['dest_lat'])"
   ]
  },
  {
   "cell_type": "code",
   "execution_count": 14,
   "metadata": {
    "pycharm": {
     "name": "#%%\n"
    }
   },
   "outputs": [],
   "source": [
    "df_b.distance = df_b.distance.astype(float).round(decimals=3)"
   ]
  },
  {
   "cell_type": "markdown",
   "metadata": {},
   "source": [
    "### Frankfurt (Main):"
   ]
  },
  {
   "cell_type": "code",
   "execution_count": 15,
   "metadata": {},
   "outputs": [],
   "source": [
    "for ind, row in df_f.iterrows():\n",
    "    df_f.loc[ind, \"distance\"] = haversine(row['orig_lng'], row['orig_lat'], row['dest_lng'], row['dest_lat'])"
   ]
  },
  {
   "cell_type": "code",
   "execution_count": 16,
   "metadata": {},
   "outputs": [],
   "source": [
    "df_f.distance = df_f.distance.astype(float).round(decimals=3)"
   ]
  },
  {
   "cell_type": "markdown",
   "metadata": {},
   "source": [
    "## 1.5 Converting the trip duration data type \n",
    "Converting of the data type will make it more eaasy to work with."
   ]
  },
  {
   "cell_type": "code",
   "execution_count": 17,
   "metadata": {
    "pycharm": {
     "name": "#%%\n"
    }
   },
   "outputs": [],
   "source": [
    "def time_convert(time):\n",
    "    hour = int(time[:3])\n",
    "    min = int(time[4:])\n",
    "    return (min + hour*60)"
   ]
  },
  {
   "cell_type": "markdown",
   "metadata": {},
   "source": [
    "### Berlin:"
   ]
  },
  {
   "cell_type": "code",
   "execution_count": 18,
   "metadata": {
    "pycharm": {
     "name": "#%%\n"
    }
   },
   "outputs": [],
   "source": [
    "df_b['year'] = [d.year for d in df_b['day']]\n",
    "df_b['month'] = [d.month for d in df_b['day']]\n",
    "df_b['date'] = [d.day for d in df_b['day']]"
   ]
  },
  {
   "cell_type": "code",
   "execution_count": 19,
   "metadata": {
    "pycharm": {
     "name": "#%%\n"
    }
   },
   "outputs": [],
   "source": [
    "df_b['hour'] = [d[:2] for d in df_b['time']]\n",
    "df_b.hour = df_b.hour.astype(int)\n",
    "df_b['min'] = [d[3:5] for d in df_b['time']]\n",
    "df_b[\"min\"] = df_b[\"min\"].astype(int)"
   ]
  },
  {
   "cell_type": "code",
   "execution_count": 20,
   "metadata": {
    "pycharm": {
     "name": "#%%\n"
    }
   },
   "outputs": [],
   "source": [
    "df_b.trip_duration = [d[6:12] for d in df_b.trip_duration]"
   ]
  },
  {
   "cell_type": "code",
   "execution_count": 21,
   "metadata": {
    "pycharm": {
     "name": "#%%\n"
    }
   },
   "outputs": [],
   "source": [
    "df_b.trip_duration = df_b.trip_duration.apply(time_convert)"
   ]
  },
  {
   "cell_type": "code",
   "execution_count": 22,
   "metadata": {
    "pycharm": {
     "name": "#%%\n"
    }
   },
   "outputs": [],
   "source": [
    "for ind, row in df_b.iterrows():\n",
    "    hour = int(row.time[:2])\n",
    "    minute = int(row.time[3:5])\n",
    "    day = row.day + dt.timedelta(hours = hour, minutes= minute)\n",
    "    df_b.at[ind, \"day\"] = day\n",
    "\n",
    "df_b.drop(\"time\", axis=1, inplace=True)"
   ]
  },
  {
   "cell_type": "markdown",
   "metadata": {},
   "source": [
    "### Frankfurt (Main):"
   ]
  },
  {
   "cell_type": "code",
   "execution_count": 23,
   "metadata": {},
   "outputs": [],
   "source": [
    "df_f['year'] = [d.year for d in df_f['day']]\n",
    "df_f['month'] = [d.month for d in df_f['day']]\n",
    "df_f['date'] = [d.day for d in df_f['day']]"
   ]
  },
  {
   "cell_type": "code",
   "execution_count": 24,
   "metadata": {},
   "outputs": [],
   "source": [
    "df_f['hour'] = [d[:2] for d in df_f['time']]\n",
    "df_f.hour = df_f.hour.astype(int)\n",
    "df_f['min'] = [d[3:5] for d in df_f['time']]\n",
    "df_f[\"min\"] = df_f[\"min\"].astype(int)"
   ]
  },
  {
   "cell_type": "code",
   "execution_count": 25,
   "metadata": {},
   "outputs": [],
   "source": [
    "df_f.trip_duration = [d[6:12] for d in df_f.trip_duration]"
   ]
  },
  {
   "cell_type": "code",
   "execution_count": 26,
   "metadata": {},
   "outputs": [],
   "source": [
    "df_f.trip_duration = df_f.trip_duration.apply(time_convert)"
   ]
  },
  {
   "cell_type": "code",
   "execution_count": 27,
   "metadata": {},
   "outputs": [],
   "source": [
    "for ind, row in df_f.iterrows():\n",
    "    hour = int(row.time[:2])\n",
    "    minute = int(row.time[3:5])\n",
    "    day = row.day + dt.timedelta(hours = hour, minutes= minute)\n",
    "    df_f.at[ind, \"day\"] = day\n",
    "\n",
    "df_f.drop(\"time\", axis=1, inplace=True)"
   ]
  },
  {
   "cell_type": "markdown",
   "metadata": {},
   "source": [
    "## 1.6 Showing results of data preparation"
   ]
  },
  {
   "cell_type": "markdown",
   "metadata": {},
   "source": [
    "### Berlin:"
   ]
  },
  {
   "cell_type": "code",
   "execution_count": 28,
   "metadata": {
    "pycharm": {
     "name": "#%%\n"
    }
   },
   "outputs": [],
   "source": [
    "df_b = df_b[[\n",
    "    'day',\n",
    "    'year',\n",
    "    'month',\n",
    "    'date',\n",
    "    'hour',\n",
    "    'min',\n",
    "    'weekday',\n",
    "    'weekday_str',\n",
    "    'b_number',\n",
    "    'city',\n",
    "    'trip_duration',\n",
    "    'distance',\n",
    "    'orig_lat',\n",
    "    'orig_lng',\n",
    "    'dest_lat',\n",
    "    'dest_lng']]"
   ]
  },
  {
   "cell_type": "code",
   "execution_count": 29,
   "metadata": {},
   "outputs": [
    {
     "data": {
      "text/html": [
       "<div>\n",
       "<style scoped>\n",
       "    .dataframe tbody tr th:only-of-type {\n",
       "        vertical-align: middle;\n",
       "    }\n",
       "\n",
       "    .dataframe tbody tr th {\n",
       "        vertical-align: top;\n",
       "    }\n",
       "\n",
       "    .dataframe thead th {\n",
       "        text-align: right;\n",
       "    }\n",
       "</style>\n",
       "<table border=\"1\" class=\"dataframe\">\n",
       "  <thead>\n",
       "    <tr style=\"text-align: right;\">\n",
       "      <th></th>\n",
       "      <th>day</th>\n",
       "      <th>year</th>\n",
       "      <th>month</th>\n",
       "      <th>date</th>\n",
       "      <th>hour</th>\n",
       "      <th>min</th>\n",
       "      <th>weekday</th>\n",
       "      <th>weekday_str</th>\n",
       "      <th>b_number</th>\n",
       "      <th>city</th>\n",
       "      <th>trip_duration</th>\n",
       "      <th>distance</th>\n",
       "      <th>orig_lat</th>\n",
       "      <th>orig_lng</th>\n",
       "      <th>dest_lat</th>\n",
       "      <th>dest_lng</th>\n",
       "    </tr>\n",
       "  </thead>\n",
       "  <tbody>\n",
       "    <tr>\n",
       "      <th>0</th>\n",
       "      <td>2019-02-16 14:53:00</td>\n",
       "      <td>2019</td>\n",
       "      <td>2</td>\n",
       "      <td>16</td>\n",
       "      <td>14</td>\n",
       "      <td>53</td>\n",
       "      <td>6</td>\n",
       "      <td>Saturday</td>\n",
       "      <td>13001</td>\n",
       "      <td>berlin</td>\n",
       "      <td>21</td>\n",
       "      <td>4.141</td>\n",
       "      <td>52.505076</td>\n",
       "      <td>13.414721</td>\n",
       "      <td>52.534591</td>\n",
       "      <td>13.452043</td>\n",
       "    </tr>\n",
       "    <tr>\n",
       "      <th>1</th>\n",
       "      <td>2019-02-16 17:22:00</td>\n",
       "      <td>2019</td>\n",
       "      <td>2</td>\n",
       "      <td>16</td>\n",
       "      <td>17</td>\n",
       "      <td>22</td>\n",
       "      <td>6</td>\n",
       "      <td>Saturday</td>\n",
       "      <td>13001</td>\n",
       "      <td>berlin</td>\n",
       "      <td>27</td>\n",
       "      <td>4.142</td>\n",
       "      <td>52.534591</td>\n",
       "      <td>13.452043</td>\n",
       "      <td>52.504621</td>\n",
       "      <td>13.415686</td>\n",
       "    </tr>\n",
       "    <tr>\n",
       "      <th>2</th>\n",
       "      <td>2019-02-16 23:29:00</td>\n",
       "      <td>2019</td>\n",
       "      <td>2</td>\n",
       "      <td>16</td>\n",
       "      <td>23</td>\n",
       "      <td>29</td>\n",
       "      <td>6</td>\n",
       "      <td>Saturday</td>\n",
       "      <td>13001</td>\n",
       "      <td>berlin</td>\n",
       "      <td>22</td>\n",
       "      <td>3.894</td>\n",
       "      <td>52.504621</td>\n",
       "      <td>13.415686</td>\n",
       "      <td>52.528998</td>\n",
       "      <td>13.456997</td>\n",
       "    </tr>\n",
       "    <tr>\n",
       "      <th>3</th>\n",
       "      <td>2019-02-18 17:49:00</td>\n",
       "      <td>2019</td>\n",
       "      <td>2</td>\n",
       "      <td>18</td>\n",
       "      <td>17</td>\n",
       "      <td>49</td>\n",
       "      <td>1</td>\n",
       "      <td>Monday</td>\n",
       "      <td>13001</td>\n",
       "      <td>berlin</td>\n",
       "      <td>15</td>\n",
       "      <td>1.855</td>\n",
       "      <td>52.528998</td>\n",
       "      <td>13.456997</td>\n",
       "      <td>52.536231</td>\n",
       "      <td>13.432285</td>\n",
       "    </tr>\n",
       "    <tr>\n",
       "      <th>4</th>\n",
       "      <td>2019-02-19 13:08:00</td>\n",
       "      <td>2019</td>\n",
       "      <td>2</td>\n",
       "      <td>19</td>\n",
       "      <td>13</td>\n",
       "      <td>8</td>\n",
       "      <td>2</td>\n",
       "      <td>Tuesday</td>\n",
       "      <td>13001</td>\n",
       "      <td>berlin</td>\n",
       "      <td>9</td>\n",
       "      <td>1.009</td>\n",
       "      <td>52.536231</td>\n",
       "      <td>13.432285</td>\n",
       "      <td>52.543311</td>\n",
       "      <td>13.441611</td>\n",
       "    </tr>\n",
       "  </tbody>\n",
       "</table>\n",
       "</div>"
      ],
      "text/plain": [
       "                  day  year  month  date  hour  min  weekday weekday_str  \\\n",
       "0 2019-02-16 14:53:00  2019      2    16    14   53        6    Saturday   \n",
       "1 2019-02-16 17:22:00  2019      2    16    17   22        6    Saturday   \n",
       "2 2019-02-16 23:29:00  2019      2    16    23   29        6    Saturday   \n",
       "3 2019-02-18 17:49:00  2019      2    18    17   49        1      Monday   \n",
       "4 2019-02-19 13:08:00  2019      2    19    13    8        2     Tuesday   \n",
       "\n",
       "   b_number    city  trip_duration  distance   orig_lat   orig_lng   dest_lat  \\\n",
       "0     13001  berlin             21     4.141  52.505076  13.414721  52.534591   \n",
       "1     13001  berlin             27     4.142  52.534591  13.452043  52.504621   \n",
       "2     13001  berlin             22     3.894  52.504621  13.415686  52.528998   \n",
       "3     13001  berlin             15     1.855  52.528998  13.456997  52.536231   \n",
       "4     13001  berlin              9     1.009  52.536231  13.432285  52.543311   \n",
       "\n",
       "    dest_lng  \n",
       "0  13.452043  \n",
       "1  13.415686  \n",
       "2  13.456997  \n",
       "3  13.432285  \n",
       "4  13.441611  "
      ]
     },
     "execution_count": 29,
     "metadata": {},
     "output_type": "execute_result"
    }
   ],
   "source": [
    "df_b.head(5)"
   ]
  },
  {
   "cell_type": "markdown",
   "metadata": {},
   "source": [
    "### Frankfurt (Main):"
   ]
  },
  {
   "cell_type": "code",
   "execution_count": 30,
   "metadata": {},
   "outputs": [],
   "source": [
    "df_f = df_f[[\n",
    "    'day',\n",
    "    'year',\n",
    "    'month',\n",
    "    'date',\n",
    "    'hour',\n",
    "    'min',\n",
    "    'weekday',\n",
    "    'weekday_str',\n",
    "    'b_number',\n",
    "    'city',\n",
    "    'trip_duration',\n",
    "    'distance',\n",
    "    'orig_lat',\n",
    "    'orig_lng',\n",
    "    'dest_lat',\n",
    "    'dest_lng']]"
   ]
  },
  {
   "cell_type": "code",
   "execution_count": 31,
   "metadata": {},
   "outputs": [
    {
     "data": {
      "text/html": [
       "<div>\n",
       "<style scoped>\n",
       "    .dataframe tbody tr th:only-of-type {\n",
       "        vertical-align: middle;\n",
       "    }\n",
       "\n",
       "    .dataframe tbody tr th {\n",
       "        vertical-align: top;\n",
       "    }\n",
       "\n",
       "    .dataframe thead th {\n",
       "        text-align: right;\n",
       "    }\n",
       "</style>\n",
       "<table border=\"1\" class=\"dataframe\">\n",
       "  <thead>\n",
       "    <tr style=\"text-align: right;\">\n",
       "      <th></th>\n",
       "      <th>day</th>\n",
       "      <th>year</th>\n",
       "      <th>month</th>\n",
       "      <th>date</th>\n",
       "      <th>hour</th>\n",
       "      <th>min</th>\n",
       "      <th>weekday</th>\n",
       "      <th>weekday_str</th>\n",
       "      <th>b_number</th>\n",
       "      <th>city</th>\n",
       "      <th>trip_duration</th>\n",
       "      <th>distance</th>\n",
       "      <th>orig_lat</th>\n",
       "      <th>orig_lng</th>\n",
       "      <th>dest_lat</th>\n",
       "      <th>dest_lng</th>\n",
       "    </tr>\n",
       "  </thead>\n",
       "  <tbody>\n",
       "    <tr>\n",
       "      <th>0</th>\n",
       "      <td>2019-06-25 21:51:00</td>\n",
       "      <td>2019</td>\n",
       "      <td>6</td>\n",
       "      <td>25</td>\n",
       "      <td>21</td>\n",
       "      <td>51</td>\n",
       "      <td>2</td>\n",
       "      <td>Tuesday</td>\n",
       "      <td>11420</td>\n",
       "      <td>frankfurt</td>\n",
       "      <td>7</td>\n",
       "      <td>0.715</td>\n",
       "      <td>49.991072</td>\n",
       "      <td>8.412515</td>\n",
       "      <td>49.984942</td>\n",
       "      <td>8.409474</td>\n",
       "    </tr>\n",
       "    <tr>\n",
       "      <th>1</th>\n",
       "      <td>2019-06-26 06:33:00</td>\n",
       "      <td>2019</td>\n",
       "      <td>6</td>\n",
       "      <td>26</td>\n",
       "      <td>6</td>\n",
       "      <td>33</td>\n",
       "      <td>3</td>\n",
       "      <td>Wednesday</td>\n",
       "      <td>11420</td>\n",
       "      <td>frankfurt</td>\n",
       "      <td>14</td>\n",
       "      <td>1.087</td>\n",
       "      <td>49.984942</td>\n",
       "      <td>8.409474</td>\n",
       "      <td>49.985673</td>\n",
       "      <td>8.424641</td>\n",
       "    </tr>\n",
       "    <tr>\n",
       "      <th>2</th>\n",
       "      <td>2019-06-27 13:20:00</td>\n",
       "      <td>2019</td>\n",
       "      <td>6</td>\n",
       "      <td>27</td>\n",
       "      <td>13</td>\n",
       "      <td>20</td>\n",
       "      <td>4</td>\n",
       "      <td>Thursday</td>\n",
       "      <td>11420</td>\n",
       "      <td>frankfurt</td>\n",
       "      <td>7</td>\n",
       "      <td>0.010</td>\n",
       "      <td>49.985613</td>\n",
       "      <td>8.424448</td>\n",
       "      <td>49.985538</td>\n",
       "      <td>8.424533</td>\n",
       "    </tr>\n",
       "    <tr>\n",
       "      <th>3</th>\n",
       "      <td>2019-06-27 13:30:00</td>\n",
       "      <td>2019</td>\n",
       "      <td>6</td>\n",
       "      <td>27</td>\n",
       "      <td>13</td>\n",
       "      <td>30</td>\n",
       "      <td>4</td>\n",
       "      <td>Thursday</td>\n",
       "      <td>11420</td>\n",
       "      <td>frankfurt</td>\n",
       "      <td>4</td>\n",
       "      <td>0.018</td>\n",
       "      <td>49.985528</td>\n",
       "      <td>8.424512</td>\n",
       "      <td>49.985679</td>\n",
       "      <td>8.424603</td>\n",
       "    </tr>\n",
       "    <tr>\n",
       "      <th>4</th>\n",
       "      <td>2019-06-27 13:59:00</td>\n",
       "      <td>2019</td>\n",
       "      <td>6</td>\n",
       "      <td>27</td>\n",
       "      <td>13</td>\n",
       "      <td>59</td>\n",
       "      <td>4</td>\n",
       "      <td>Thursday</td>\n",
       "      <td>11420</td>\n",
       "      <td>frankfurt</td>\n",
       "      <td>9</td>\n",
       "      <td>0.005</td>\n",
       "      <td>49.985679</td>\n",
       "      <td>8.424603</td>\n",
       "      <td>49.985636</td>\n",
       "      <td>8.424570</td>\n",
       "    </tr>\n",
       "  </tbody>\n",
       "</table>\n",
       "</div>"
      ],
      "text/plain": [
       "                  day  year  month  date  hour  min  weekday weekday_str  \\\n",
       "0 2019-06-25 21:51:00  2019      6    25    21   51        2     Tuesday   \n",
       "1 2019-06-26 06:33:00  2019      6    26     6   33        3   Wednesday   \n",
       "2 2019-06-27 13:20:00  2019      6    27    13   20        4    Thursday   \n",
       "3 2019-06-27 13:30:00  2019      6    27    13   30        4    Thursday   \n",
       "4 2019-06-27 13:59:00  2019      6    27    13   59        4    Thursday   \n",
       "\n",
       "   b_number       city  trip_duration  distance   orig_lat  orig_lng  \\\n",
       "0     11420  frankfurt              7     0.715  49.991072  8.412515   \n",
       "1     11420  frankfurt             14     1.087  49.984942  8.409474   \n",
       "2     11420  frankfurt              7     0.010  49.985613  8.424448   \n",
       "3     11420  frankfurt              4     0.018  49.985528  8.424512   \n",
       "4     11420  frankfurt              9     0.005  49.985679  8.424603   \n",
       "\n",
       "    dest_lat  dest_lng  \n",
       "0  49.984942  8.409474  \n",
       "1  49.985673  8.424641  \n",
       "2  49.985538  8.424533  \n",
       "3  49.985679  8.424603  \n",
       "4  49.985636  8.424570  "
      ]
     },
     "execution_count": 31,
     "metadata": {},
     "output_type": "execute_result"
    }
   ],
   "source": [
    "df_f.head(5)"
   ]
  },
  {
   "cell_type": "markdown",
   "metadata": {},
   "source": [
    "Saving the data sets:"
   ]
  },
  {
   "cell_type": "code",
   "execution_count": 32,
   "metadata": {
    "pycharm": {
     "name": "#%%\n"
    }
   },
   "outputs": [],
   "source": [
    "# final data sets\n",
    "df_b.to_csv(r\"C:\\Users\\geibe\\Desktop\\aa_project-main\\Abgabe\\Data\\berlin_final.csv\")\n",
    "df_f.to_csv(r\"C:\\Users\\geibe\\Desktop\\aa_project-main\\Abgabe\\Data\\frankfurt_final.csv\")"
   ]
  },
  {
   "cell_type": "markdown",
   "metadata": {},
   "source": [
    "# 2. Cleaning the weather data"
   ]
  },
  {
   "cell_type": "markdown",
   "metadata": {},
   "source": [
    "The imported weather data are from the CDC weather database. We imported the following data for berlin and frankfurt from the 02/01/2019 to the 06/30/2019:\n",
    "1. windspeed\n",
    "2. precipation\n",
    "3. temperature\n",
    "\n",
    "The goal for chapter 2 is to get the cleaned weather data for each city.\n"
   ]
  },
  {
   "cell_type": "code",
   "execution_count": 33,
   "metadata": {},
   "outputs": [],
   "source": [
    "df_t = pd.read_csv(r\"C:\\Users\\geibe\\Desktop\\aa_project-main\\Abgabe\\Data\\raw\\cdc_download_2020-12-14_23_10\\data\\data_TT_TU_MN009.csv\") # temperature\n",
    "df_p = pd.read_csv(r\"C:\\Users\\geibe\\Desktop\\aa_project-main\\Abgabe\\Data\\raw\\cdc_download_2020-12-14_23_10\\data\\data_R1_MN008.csv\")# precipation\n",
    "df_w = pd.read_csv(r\"C:\\Users\\geibe\\Desktop\\aa_project-main\\Abgabe\\Data\\raw\\cdc_download_2020-12-14_23_10\\data\\data_FF_MN008.csv\") # wind speed"
   ]
  },
  {
   "cell_type": "code",
   "execution_count": 34,
   "metadata": {},
   "outputs": [],
   "source": [
    "result = pd.merge(df_t, df_p, how=\"outer\", on =[\"Zeitstempel\",\"SDO_ID\"])"
   ]
  },
  {
   "cell_type": "code",
   "execution_count": 35,
   "metadata": {},
   "outputs": [],
   "source": [
    "result = pd.merge(result, df_w, how=\"outer\", on =[\"Zeitstempel\",\"SDO_ID\"])"
   ]
  },
  {
   "cell_type": "markdown",
   "metadata": {},
   "source": [
    "## 2.1 Droping not necessary data:"
   ]
  },
  {
   "cell_type": "code",
   "execution_count": 36,
   "metadata": {},
   "outputs": [],
   "source": [
    "result.drop(['Produkt_Code_x', 'Qualitaet_Byte_x',\n",
    "       'Qualitaet_Niveau_x', 'Produkt_Code_y', 'Qualitaet_Byte_y',\n",
    "       'Qualitaet_Niveau_y', 'Produkt_Code', 'Qualitaet_Byte', 'Qualitaet_Niveau'], axis=1, inplace=True)"
   ]
  },
  {
   "cell_type": "code",
   "execution_count": 37,
   "metadata": {},
   "outputs": [],
   "source": [
    "result.rename(columns={\"SDO_ID\": \"sid\",\n",
    "                       \"Zeitstempel\": \"datetime\",\n",
    "                       \"Wert_x\": \"temperature\",\n",
    "                       \"Wert_y\": \"precipitation\",\n",
    "                       \"Wert\": \"wind_speed\",}, inplace=True)"
   ]
  },
  {
   "cell_type": "code",
   "execution_count": 38,
   "metadata": {},
   "outputs": [],
   "source": [
    "result.temperature.fillna(method=\"ffill\", inplace=True)\n",
    "result.precipitation.fillna(value=0, inplace=True)\n",
    "result.wind_speed.fillna(value=result.wind_speed.median(), inplace=True)"
   ]
  },
  {
   "cell_type": "code",
   "execution_count": 39,
   "metadata": {},
   "outputs": [],
   "source": [
    "def get_date(time):\n",
    "    return pd.Timestamp(int(str(time)[0:4]), int(str(time)[4:6]), int(str(time)[6:8]), int(str(time)[8:10]))"
   ]
  },
  {
   "cell_type": "code",
   "execution_count": 40,
   "metadata": {},
   "outputs": [],
   "source": [
    "result[\"datetime\"] = result.datetime.apply(get_date)"
   ]
  },
  {
   "cell_type": "markdown",
   "metadata": {},
   "source": [
    "## 2.2 Saving the data sets:"
   ]
  },
  {
   "cell_type": "code",
   "execution_count": 41,
   "metadata": {},
   "outputs": [],
   "source": [
    "df_f = result[result.sid == 1420]\n",
    "df_f.to_csv(r\"C:\\Users\\geibe\\Desktop\\aa_project-main\\Abgabe\\Data\\frankfurt_weather.csv\")\n",
    "\n",
    "df_b = result[result.sid == 433]\n",
    "df_b.to_csv(r\"C:\\Users\\geibe\\Desktop\\aa_project-main\\Abgabe\\Data\\berlin_weather.csv\")"
   ]
  }
 ],
 "metadata": {
  "kernelspec": {
   "display_name": "Python 3",
   "language": "python",
   "name": "python3"
  },
  "language_info": {
   "codemirror_mode": {
    "name": "ipython",
    "version": 3
   },
   "file_extension": ".py",
   "mimetype": "text/x-python",
   "name": "python",
   "nbconvert_exporter": "python",
   "pygments_lexer": "ipython3",
   "version": "3.8.5"
  }
 },
 "nbformat": 4,
 "nbformat_minor": 1
}