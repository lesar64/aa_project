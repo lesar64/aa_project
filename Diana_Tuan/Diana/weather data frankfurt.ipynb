{
 "cells": [
  {
   "cell_type": "code",
   "execution_count": 28,
   "metadata": {},
   "outputs": [],
   "source": [
    "%matplotlib inline\n",
    "import numpy as np\n",
    "import pandas as pd\n",
    "import matplotlib as mpl\n",
    "import datetime\n",
    "import mpl_scatter_density\n",
    "import matplotlib.pyplot as plt\n",
    "import seaborn as sns\n",
    "from mpl_toolkits.basemap import Basemap"
   ]
  },
  {
   "cell_type": "code",
   "execution_count": 49,
   "metadata": {},
   "outputs": [],
   "source": [
    "frankfurt_weather = pd.read_csv(\"frankfurt_weather.csv\")"
   ]
  },
  {
   "cell_type": "code",
   "execution_count": 51,
   "metadata": {},
   "outputs": [
    {
     "data": {
      "text/html": [
       "<div>\n",
       "<style scoped>\n",
       "    .dataframe tbody tr th:only-of-type {\n",
       "        vertical-align: middle;\n",
       "    }\n",
       "\n",
       "    .dataframe tbody tr th {\n",
       "        vertical-align: top;\n",
       "    }\n",
       "\n",
       "    .dataframe thead th {\n",
       "        text-align: right;\n",
       "    }\n",
       "</style>\n",
       "<table border=\"1\" class=\"dataframe\">\n",
       "  <thead>\n",
       "    <tr style=\"text-align: right;\">\n",
       "      <th></th>\n",
       "      <th>Produkt_Code</th>\n",
       "      <th>SDO_ID</th>\n",
       "      <th>Zeitstempel</th>\n",
       "      <th>Wert</th>\n",
       "      <th>Qualitaet_Byte</th>\n",
       "      <th>Qualitaet_Niveau</th>\n",
       "    </tr>\n",
       "  </thead>\n",
       "  <tbody>\n",
       "    <tr>\n",
       "      <th>0</th>\n",
       "      <td>TT_TU_MN009</td>\n",
       "      <td>Frankfurt</td>\n",
       "      <td>201902010000</td>\n",
       "      <td>-0.3</td>\n",
       "      <td>7</td>\n",
       "      <td>6</td>\n",
       "    </tr>\n",
       "    <tr>\n",
       "      <th>1</th>\n",
       "      <td>TT_TU_MN009</td>\n",
       "      <td>Frankfurt</td>\n",
       "      <td>201902010100</td>\n",
       "      <td>-0.1</td>\n",
       "      <td>7</td>\n",
       "      <td>6</td>\n",
       "    </tr>\n",
       "    <tr>\n",
       "      <th>2</th>\n",
       "      <td>TT_TU_MN009</td>\n",
       "      <td>Frankfurt</td>\n",
       "      <td>201902010200</td>\n",
       "      <td>-0.3</td>\n",
       "      <td>7</td>\n",
       "      <td>1</td>\n",
       "    </tr>\n",
       "    <tr>\n",
       "      <th>3</th>\n",
       "      <td>TT_TU_MN009</td>\n",
       "      <td>Frankfurt</td>\n",
       "      <td>201902010300</td>\n",
       "      <td>-0.3</td>\n",
       "      <td>7</td>\n",
       "      <td>1</td>\n",
       "    </tr>\n",
       "    <tr>\n",
       "      <th>4</th>\n",
       "      <td>TT_TU_MN009</td>\n",
       "      <td>Frankfurt</td>\n",
       "      <td>201902010400</td>\n",
       "      <td>0.0</td>\n",
       "      <td>7</td>\n",
       "      <td>1</td>\n",
       "    </tr>\n",
       "  </tbody>\n",
       "</table>\n",
       "</div>"
      ],
      "text/plain": [
       "  Produkt_Code     SDO_ID   Zeitstempel  Wert  Qualitaet_Byte  \\\n",
       "0  TT_TU_MN009  Frankfurt  201902010000  -0.3               7   \n",
       "1  TT_TU_MN009  Frankfurt  201902010100  -0.1               7   \n",
       "2  TT_TU_MN009  Frankfurt  201902010200  -0.3               7   \n",
       "3  TT_TU_MN009  Frankfurt  201902010300  -0.3               7   \n",
       "4  TT_TU_MN009  Frankfurt  201902010400   0.0               7   \n",
       "\n",
       "   Qualitaet_Niveau  \n",
       "0                 6  \n",
       "1                 6  \n",
       "2                 1  \n",
       "3                 1  \n",
       "4                 1  "
      ]
     },
     "execution_count": 51,
     "metadata": {},
     "output_type": "execute_result"
    }
   ],
   "source": [
    "frankfurt_weather.head()"
   ]
  },
  {
   "cell_type": "markdown",
   "metadata": {},
   "source": [
    "## data cleaning:"
   ]
  },
  {
   "cell_type": "code",
   "execution_count": 50,
   "metadata": {},
   "outputs": [],
   "source": [
    "# Change the city ID from CDC data to readable data\n",
    "for ind, row in frankfurt_weather.iterrows():\n",
    "    if frankfurt_weather.loc[ind, \"SDO_ID\"] == 1420:\n",
    "        frankfurt_weather.loc[ind, \"SDO_ID\"] = \"Frankfurt\"\n",
    "    elif frankfurt_weather.loc[ind, \"SDO_ID\"] == 1111:\n",
    "        frankfurt_weather.loc[ind, \"SDO_ID\"] = \"Berlin\"\n",
    "    else: \n",
    "        frankfurt_weather.loc[ind, \"SDO_ID\"] = \"\""
   ]
  },
  {
   "cell_type": "code",
   "execution_count": 34,
   "metadata": {},
   "outputs": [],
   "source": [
    "# Set timestamp         \n",
    "for ind, row in frankfurt_weather.iterrows():\n",
    "    frankfurt_weather.loc[ind, \"Zeitstempel\"] = pd.to_datetime(row['Zeitstempel'], format='%Y%m%d%H%M')"
   ]
  },
  {
   "cell_type": "code",
   "execution_count": 47,
   "metadata": {},
   "outputs": [],
   "source": [
    "# Drop not necessary columns\n",
    "cleaned_frankfurt_weather = frankfurt_weather.drop([\"Qualitaet_Byte\", \"Qualitaet_Niveau\", \"Produkt_Code\"], axis=1)"
   ]
  },
  {
   "cell_type": "code",
   "execution_count": 48,
   "metadata": {},
   "outputs": [
    {
     "data": {
      "text/html": [
       "<div>\n",
       "<style scoped>\n",
       "    .dataframe tbody tr th:only-of-type {\n",
       "        vertical-align: middle;\n",
       "    }\n",
       "\n",
       "    .dataframe tbody tr th {\n",
       "        vertical-align: top;\n",
       "    }\n",
       "\n",
       "    .dataframe thead th {\n",
       "        text-align: right;\n",
       "    }\n",
       "</style>\n",
       "<table border=\"1\" class=\"dataframe\">\n",
       "  <thead>\n",
       "    <tr style=\"text-align: right;\">\n",
       "      <th></th>\n",
       "      <th>SDO_ID</th>\n",
       "      <th>Zeitstempel</th>\n",
       "      <th>Wert</th>\n",
       "    </tr>\n",
       "  </thead>\n",
       "  <tbody>\n",
       "    <tr>\n",
       "      <th>0</th>\n",
       "      <td>Frankfurt</td>\n",
       "      <td>2019-02-01 00:00:00</td>\n",
       "      <td>-0.3</td>\n",
       "    </tr>\n",
       "    <tr>\n",
       "      <th>1</th>\n",
       "      <td>Frankfurt</td>\n",
       "      <td>2019-02-01 01:00:00</td>\n",
       "      <td>-0.1</td>\n",
       "    </tr>\n",
       "    <tr>\n",
       "      <th>2</th>\n",
       "      <td>Frankfurt</td>\n",
       "      <td>2019-02-01 02:00:00</td>\n",
       "      <td>-0.3</td>\n",
       "    </tr>\n",
       "    <tr>\n",
       "      <th>3</th>\n",
       "      <td>Frankfurt</td>\n",
       "      <td>2019-02-01 03:00:00</td>\n",
       "      <td>-0.3</td>\n",
       "    </tr>\n",
       "    <tr>\n",
       "      <th>4</th>\n",
       "      <td>Frankfurt</td>\n",
       "      <td>2019-02-01 04:00:00</td>\n",
       "      <td>0.0</td>\n",
       "    </tr>\n",
       "  </tbody>\n",
       "</table>\n",
       "</div>"
      ],
      "text/plain": [
       "      SDO_ID          Zeitstempel  Wert\n",
       "0  Frankfurt  2019-02-01 00:00:00  -0.3\n",
       "1  Frankfurt  2019-02-01 01:00:00  -0.1\n",
       "2  Frankfurt  2019-02-01 02:00:00  -0.3\n",
       "3  Frankfurt  2019-02-01 03:00:00  -0.3\n",
       "4  Frankfurt  2019-02-01 04:00:00   0.0"
      ]
     },
     "execution_count": 48,
     "metadata": {},
     "output_type": "execute_result"
    }
   ],
   "source": [
    "cleaned_frankfurt_weather.head()"
   ]
  },
  {
   "cell_type": "code",
   "execution_count": null,
   "metadata": {},
   "outputs": [],
   "source": []
  }
 ],
 "metadata": {
  "kernelspec": {
   "display_name": "Python 3",
   "language": "python",
   "name": "python3"
  },
  "language_info": {
   "codemirror_mode": {
    "name": "ipython",
    "version": 3
   },
   "file_extension": ".py",
   "mimetype": "text/x-python",
   "name": "python",
   "nbconvert_exporter": "python",
   "pygments_lexer": "ipython3",
   "version": "3.8.5"
  }
 },
 "nbformat": 4,
 "nbformat_minor": 4
}
