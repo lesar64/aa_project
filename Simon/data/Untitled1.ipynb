{
 "cells": [
  {
   "cell_type": "code",
   "execution_count": 60,
   "metadata": {},
   "outputs": [],
   "source": [
    "import pandas as pd\n",
    "import math as mt\n",
    "import geopy as gp"
   ]
  },
  {
   "cell_type": "code",
   "execution_count": null,
   "metadata": {},
   "outputs": [],
   "source": []
  },
  {
   "cell_type": "code",
   "execution_count": 61,
   "metadata": {},
   "outputs": [
    {
     "data": {
      "text/html": [
       "<div>\n",
       "<style scoped>\n",
       "    .dataframe tbody tr th:only-of-type {\n",
       "        vertical-align: middle;\n",
       "    }\n",
       "\n",
       "    .dataframe tbody tr th {\n",
       "        vertical-align: top;\n",
       "    }\n",
       "\n",
       "    .dataframe thead th {\n",
       "        text-align: right;\n",
       "    }\n",
       "</style>\n",
       "<table border=\"1\" class=\"dataframe\">\n",
       "  <thead>\n",
       "    <tr style=\"text-align: right;\">\n",
       "      <th></th>\n",
       "      <th>day</th>\n",
       "      <th>time</th>\n",
       "      <th>b_number</th>\n",
       "      <th>city</th>\n",
       "      <th>trip_duration</th>\n",
       "      <th>orig_lat</th>\n",
       "      <th>orig_lng</th>\n",
       "      <th>dest_lat</th>\n",
       "      <th>dest_lng</th>\n",
       "    </tr>\n",
       "  </thead>\n",
       "  <tbody>\n",
       "    <tr>\n",
       "      <th>0</th>\n",
       "      <td>2019-06-25</td>\n",
       "      <td>21:51:00</td>\n",
       "      <td>11420</td>\n",
       "      <td>frankfurt</td>\n",
       "      <td>0 days 00:07:00.000000000</td>\n",
       "      <td>49.991072</td>\n",
       "      <td>8.412515</td>\n",
       "      <td>49.984942</td>\n",
       "      <td>8.409474</td>\n",
       "    </tr>\n",
       "    <tr>\n",
       "      <th>1</th>\n",
       "      <td>2019-06-26</td>\n",
       "      <td>06:33:00</td>\n",
       "      <td>11420</td>\n",
       "      <td>frankfurt</td>\n",
       "      <td>0 days 00:14:00.000000000</td>\n",
       "      <td>49.984942</td>\n",
       "      <td>8.409474</td>\n",
       "      <td>49.985673</td>\n",
       "      <td>8.424641</td>\n",
       "    </tr>\n",
       "    <tr>\n",
       "      <th>2</th>\n",
       "      <td>2019-06-27</td>\n",
       "      <td>13:20:00</td>\n",
       "      <td>11420</td>\n",
       "      <td>frankfurt</td>\n",
       "      <td>0 days 00:07:00.000000000</td>\n",
       "      <td>49.985613</td>\n",
       "      <td>8.424448</td>\n",
       "      <td>49.985538</td>\n",
       "      <td>8.424533</td>\n",
       "    </tr>\n",
       "    <tr>\n",
       "      <th>3</th>\n",
       "      <td>2019-06-27</td>\n",
       "      <td>13:30:00</td>\n",
       "      <td>11420</td>\n",
       "      <td>frankfurt</td>\n",
       "      <td>0 days 00:04:00.000000000</td>\n",
       "      <td>49.985528</td>\n",
       "      <td>8.424512</td>\n",
       "      <td>49.985679</td>\n",
       "      <td>8.424603</td>\n",
       "    </tr>\n",
       "    <tr>\n",
       "      <th>4</th>\n",
       "      <td>2019-06-27</td>\n",
       "      <td>13:59:00</td>\n",
       "      <td>11420</td>\n",
       "      <td>frankfurt</td>\n",
       "      <td>0 days 00:09:00.000000000</td>\n",
       "      <td>49.985679</td>\n",
       "      <td>8.424603</td>\n",
       "      <td>49.985636</td>\n",
       "      <td>8.424570</td>\n",
       "    </tr>\n",
       "  </tbody>\n",
       "</table>\n",
       "</div>"
      ],
      "text/plain": [
       "          day      time  b_number       city              trip_duration  \\\n",
       "0  2019-06-25  21:51:00     11420  frankfurt  0 days 00:07:00.000000000   \n",
       "1  2019-06-26  06:33:00     11420  frankfurt  0 days 00:14:00.000000000   \n",
       "2  2019-06-27  13:20:00     11420  frankfurt  0 days 00:07:00.000000000   \n",
       "3  2019-06-27  13:30:00     11420  frankfurt  0 days 00:04:00.000000000   \n",
       "4  2019-06-27  13:59:00     11420  frankfurt  0 days 00:09:00.000000000   \n",
       "\n",
       "    orig_lat  orig_lng   dest_lat  dest_lng  \n",
       "0  49.991072  8.412515  49.984942  8.409474  \n",
       "1  49.984942  8.409474  49.985673  8.424641  \n",
       "2  49.985613  8.424448  49.985538  8.424533  \n",
       "3  49.985528  8.424512  49.985679  8.424603  \n",
       "4  49.985679  8.424603  49.985636  8.424570  "
      ]
     },
     "execution_count": 61,
     "metadata": {},
     "output_type": "execute_result"
    }
   ],
   "source": [
    "frankfurt_df = pd.read_csv('frankfurt.csv')\n",
    "frankfurt_df.head()"
   ]
  },
  {
   "cell_type": "code",
   "execution_count": 62,
   "metadata": {
    "scrolled": true
   },
   "outputs": [
    {
     "data": {
      "text/html": [
       "<div>\n",
       "<style scoped>\n",
       "    .dataframe tbody tr th:only-of-type {\n",
       "        vertical-align: middle;\n",
       "    }\n",
       "\n",
       "    .dataframe tbody tr th {\n",
       "        vertical-align: top;\n",
       "    }\n",
       "\n",
       "    .dataframe thead th {\n",
       "        text-align: right;\n",
       "    }\n",
       "</style>\n",
       "<table border=\"1\" class=\"dataframe\">\n",
       "  <thead>\n",
       "    <tr style=\"text-align: right;\">\n",
       "      <th></th>\n",
       "      <th>day</th>\n",
       "      <th>time</th>\n",
       "      <th>b_number</th>\n",
       "      <th>city</th>\n",
       "      <th>trip_duration</th>\n",
       "      <th>orig_lat</th>\n",
       "      <th>orig_lng</th>\n",
       "      <th>dest_lat</th>\n",
       "      <th>dest_lng</th>\n",
       "    </tr>\n",
       "  </thead>\n",
       "  <tbody>\n",
       "    <tr>\n",
       "      <th>0</th>\n",
       "      <td>2019-02-16</td>\n",
       "      <td>14:53:00</td>\n",
       "      <td>13001</td>\n",
       "      <td>berlin</td>\n",
       "      <td>0 days 00:21:00.000000000</td>\n",
       "      <td>52.505076</td>\n",
       "      <td>13.414721</td>\n",
       "      <td>52.534591</td>\n",
       "      <td>13.452043</td>\n",
       "    </tr>\n",
       "    <tr>\n",
       "      <th>1</th>\n",
       "      <td>2019-02-16</td>\n",
       "      <td>17:22:00</td>\n",
       "      <td>13001</td>\n",
       "      <td>berlin</td>\n",
       "      <td>0 days 00:27:00.000000000</td>\n",
       "      <td>52.534591</td>\n",
       "      <td>13.452043</td>\n",
       "      <td>52.504621</td>\n",
       "      <td>13.415686</td>\n",
       "    </tr>\n",
       "    <tr>\n",
       "      <th>2</th>\n",
       "      <td>2019-02-16</td>\n",
       "      <td>23:29:00</td>\n",
       "      <td>13001</td>\n",
       "      <td>berlin</td>\n",
       "      <td>0 days 00:22:00.000000000</td>\n",
       "      <td>52.504621</td>\n",
       "      <td>13.415686</td>\n",
       "      <td>52.528998</td>\n",
       "      <td>13.456997</td>\n",
       "    </tr>\n",
       "    <tr>\n",
       "      <th>3</th>\n",
       "      <td>2019-02-18</td>\n",
       "      <td>17:49:00</td>\n",
       "      <td>13001</td>\n",
       "      <td>berlin</td>\n",
       "      <td>0 days 00:15:00.000000000</td>\n",
       "      <td>52.528998</td>\n",
       "      <td>13.456997</td>\n",
       "      <td>52.536231</td>\n",
       "      <td>13.432285</td>\n",
       "    </tr>\n",
       "    <tr>\n",
       "      <th>4</th>\n",
       "      <td>2019-02-19</td>\n",
       "      <td>13:08:00</td>\n",
       "      <td>13001</td>\n",
       "      <td>berlin</td>\n",
       "      <td>0 days 00:09:00.000000000</td>\n",
       "      <td>52.536231</td>\n",
       "      <td>13.432285</td>\n",
       "      <td>52.543311</td>\n",
       "      <td>13.441611</td>\n",
       "    </tr>\n",
       "  </tbody>\n",
       "</table>\n",
       "</div>"
      ],
      "text/plain": [
       "          day      time  b_number    city              trip_duration  \\\n",
       "0  2019-02-16  14:53:00     13001  berlin  0 days 00:21:00.000000000   \n",
       "1  2019-02-16  17:22:00     13001  berlin  0 days 00:27:00.000000000   \n",
       "2  2019-02-16  23:29:00     13001  berlin  0 days 00:22:00.000000000   \n",
       "3  2019-02-18  17:49:00     13001  berlin  0 days 00:15:00.000000000   \n",
       "4  2019-02-19  13:08:00     13001  berlin  0 days 00:09:00.000000000   \n",
       "\n",
       "    orig_lat   orig_lng   dest_lat   dest_lng  \n",
       "0  52.505076  13.414721  52.534591  13.452043  \n",
       "1  52.534591  13.452043  52.504621  13.415686  \n",
       "2  52.504621  13.415686  52.528998  13.456997  \n",
       "3  52.528998  13.456997  52.536231  13.432285  \n",
       "4  52.536231  13.432285  52.543311  13.441611  "
      ]
     },
     "execution_count": 62,
     "metadata": {},
     "output_type": "execute_result"
    }
   ],
   "source": [
    "berlin_df = pd.read_csv('berlin.csv')\n",
    "berlin_df.head()"
   ]
  },
  {
   "cell_type": "code",
   "execution_count": 63,
   "metadata": {},
   "outputs": [],
   "source": [
    "def calc_30_minutes_from_trip_duration(x):\n",
    "    hours_in_seconds = int(x[-18:-16]) * 3600\n",
    "    minutes_in_seconds = int(x[-15:-13]) * 60\n",
    "    total_seconds = hours_in_seconds + minutes_in_seconds\n",
    "    minutes = total_seconds / 60\n",
    "    return mt.ceil(minutes/30)"
   ]
  },
  {
   "cell_type": "code",
   "execution_count": 64,
   "metadata": {},
   "outputs": [
    {
     "data": {
      "text/plain": [
       "1    15039\n",
       "2     2908\n",
       "3      929\n",
       "4      549\n",
       "5      348\n",
       "6      289\n",
       "Name: trip_duration, dtype: int64"
      ]
     },
     "execution_count": 64,
     "metadata": {},
     "output_type": "execute_result"
    }
   ],
   "source": [
    "frankfurt_df_30_minutes = frankfurt_df['trip_duration'].apply(calc_30_minutes_from_trip_duration)\n",
    "frankfurt_df_30_minutes.value_counts()"
   ]
  },
  {
   "cell_type": "code",
   "execution_count": 65,
   "metadata": {},
   "outputs": [
    {
     "data": {
      "text/plain": [
       "1    156825\n",
       "2     34591\n",
       "3     10281\n",
       "4      6047\n",
       "5      4170\n",
       "6      3167\n",
       "Name: trip_duration, dtype: int64"
      ]
     },
     "execution_count": 65,
     "metadata": {},
     "output_type": "execute_result"
    }
   ],
   "source": [
    "berlin_df_30_minutes = berlin_df['trip_duration'].apply(calc_30_minutes_from_trip_duration)\n",
    "berlin_df_30_minutes.value_counts()"
   ]
  },
  {
   "cell_type": "markdown",
   "metadata": {},
   "source": [
    "### Umsatz in Euro Frankfurt"
   ]
  },
  {
   "cell_type": "code",
   "execution_count": 66,
   "metadata": {
    "scrolled": true
   },
   "outputs": [
    {
     "data": {
      "text/plain": [
       "29312"
      ]
     },
     "execution_count": 66,
     "metadata": {},
     "output_type": "execute_result"
    }
   ],
   "source": [
    "sum(frankfurt_df_30_minutes)"
   ]
  },
  {
   "cell_type": "markdown",
   "metadata": {},
   "source": [
    "### Umsatz in Euro Berlin"
   ]
  },
  {
   "cell_type": "code",
   "execution_count": 67,
   "metadata": {
    "scrolled": true
   },
   "outputs": [
    {
     "data": {
      "text/plain": [
       "320890"
      ]
     },
     "execution_count": 67,
     "metadata": {},
     "output_type": "execute_result"
    }
   ],
   "source": [
    "sum(berlin_df_30_minutes)"
   ]
  },
  {
   "cell_type": "code",
   "execution_count": 68,
   "metadata": {},
   "outputs": [
    {
     "name": "stdout",
     "output_type": "stream",
     "text": [
      "279.35290160430094\n"
     ]
    }
   ],
   "source": [
    "import geopy as gp\n",
    "\n",
    "coords_1 = (52.2296756, 21.0122287)\n",
    "coords_2 = (52.406374, 16.9251681)\n",
    "\n",
    "print(gp.distance.geodesic(coords_1, coords_2).km)"
   ]
  },
  {
   "cell_type": "code",
   "execution_count": 69,
   "metadata": {},
   "outputs": [],
   "source": [
    "def calc_distance(orig_lat, orig_lng, dest_lat, dest_lng):\n",
    "    coords_1 = (orig_lat, orig_lng)\n",
    "    coords_2 = (dest_lat, dest_lng)\n",
    "    return gp.distance.geodesic(coords_1, coords_2).km"
   ]
  },
  {
   "cell_type": "code",
   "execution_count": 70,
   "metadata": {},
   "outputs": [],
   "source": [
    "result_dict = {}\n",
    "result_list = []\n",
    "\n",
    "for index, row in frankfurt_df.iterrows():\n",
    "    \n",
    "    dist = calc_distance(row['orig_lat'],row['orig_lng'],row['dest_lat'],row['dest_lng'])\n",
    "    day = str(row['day'][-2:])\n",
    "    \n",
    "    if day in result_dict:\n",
    "        result_dict[day] = [dist] + result_dict[day]\n",
    "    else:\n",
    "        result_dict[day] = [dist]\n",
    "    "
   ]
  },
  {
   "cell_type": "markdown",
   "metadata": {},
   "source": [
    "### Km pro Tag in Frankfurt"
   ]
  },
  {
   "cell_type": "code",
   "execution_count": 71,
   "metadata": {
    "scrolled": true
   },
   "outputs": [
    {
     "name": "stdout",
     "output_type": "stream",
     "text": [
      "1622.736709055845\n",
      "1223.2093111711788\n",
      "1277.5857957399608\n",
      "1357.6304335672546\n",
      "2947.4279810236717\n",
      "851.7711164720868\n",
      "1504.7519251024078\n",
      "1048.217242155942\n",
      "1499.3268494589388\n",
      "855.0337845184328\n",
      "1163.0749027938443\n",
      "1275.5881753849635\n",
      "1056.6599048589585\n",
      "1068.1696978675473\n",
      "1045.6287328181006\n",
      "1139.0224970955899\n",
      "1038.2231064645237\n",
      "1135.174642780684\n",
      "1016.3918951895047\n",
      "824.0326168339111\n",
      "1635.8579958050987\n",
      "1562.5210931919846\n",
      "1166.4415616292888\n",
      "814.0802815370902\n",
      "1563.4122579945138\n",
      "1443.0707561204335\n",
      "1078.6261308216995\n",
      "780.4881930302397\n",
      "850.1321687203854\n",
      "1531.41953018093\n",
      "920.882536801014\n"
     ]
    }
   ],
   "source": [
    "for key in result_dict:\n",
    "    print(sum(result_dict[key]))"
   ]
  },
  {
   "cell_type": "markdown",
   "metadata": {},
   "source": [
    "### Km pro Tag in Berlin"
   ]
  },
  {
   "cell_type": "code",
   "execution_count": 75,
   "metadata": {},
   "outputs": [],
   "source": [
    "result_dict = {}\n",
    "result_list = []\n",
    "\n",
    "for index, row in berlin_df.iterrows():\n",
    "    \n",
    "    dist = calc_distance(row['orig_lat'],row['orig_lng'],row['dest_lat'],row['dest_lng'])\n",
    "    day = str(row['day'][-2:])\n",
    "    \n",
    "    if day in result_dict:\n",
    "        result_dict[day] = [dist] + result_dict[day]\n",
    "    else:\n",
    "        result_dict[day] = [dist]\n",
    "    "
   ]
  },
  {
   "cell_type": "code",
   "execution_count": 76,
   "metadata": {},
   "outputs": [
    {
     "name": "stdout",
     "output_type": "stream",
     "text": [
      "13495.80165255314\n",
      "26677.414330439762\n",
      "18581.925850686028\n",
      "19984.80729883147\n",
      "15592.196876596774\n",
      "15108.753594833655\n",
      "15413.119265966085\n",
      "16916.98376838798\n",
      "22734.951645910296\n",
      "22071.231724630885\n",
      "24543.120112983837\n",
      "13579.209769615452\n",
      "18568.68121691525\n",
      "24888.640925654352\n",
      "15717.87512048079\n",
      "13059.204213259423\n",
      "12994.145649870774\n",
      "14356.6629993714\n",
      "24192.849483395607\n",
      "16359.684994006539\n",
      "29163.599223780355\n",
      "23132.777068294457\n",
      "14770.705877509636\n",
      "18066.89994698446\n",
      "16600.549482899103\n",
      "18860.21608508632\n",
      "20002.047800358818\n",
      "18984.00184985584\n",
      "17533.812412879026\n",
      "7317.911125507183\n",
      "15150.820439149647\n"
     ]
    }
   ],
   "source": [
    "for key in result_dict:\n",
    "    print(sum(result_dict[key]))"
   ]
  },
  {
   "cell_type": "code",
   "execution_count": null,
   "metadata": {},
   "outputs": [],
   "source": []
  }
 ],
 "metadata": {
  "kernelspec": {
   "display_name": "Python 3",
   "language": "python",
   "name": "python3"
  },
  "language_info": {
   "codemirror_mode": {
    "name": "ipython",
    "version": 3
   },
   "file_extension": ".py",
   "mimetype": "text/x-python",
   "name": "python",
   "nbconvert_exporter": "python",
   "pygments_lexer": "ipython3",
   "version": "3.8.3"
  }
 },
 "nbformat": 4,
 "nbformat_minor": 4
}
