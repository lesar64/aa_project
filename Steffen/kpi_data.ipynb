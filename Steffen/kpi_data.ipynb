{
 "cells": [
  {
   "cell_type": "code",
   "execution_count": 1,
   "metadata": {},
   "outputs": [],
   "source": [
    "import pandas as pd\n",
    "import matplotlib.pyplot as plt\n",
    "import matplotlib.ticker as mticker\n",
    "import datetime"
   ]
  },
  {
   "cell_type": "code",
   "execution_count": 2,
   "metadata": {
    "pycharm": {
     "name": "#%%\n"
    }
   },
   "outputs": [],
   "source": [
    "# df = pd.read_csv(r\"D:\\Git\\aa_project\\Data\\berlin_final.csv\")\n",
    "df = pd.read_csv(r\"D:\\OneDrive - Universität zu Köln\\Uni\\AA\\Project\\aa_project\\Data\\berlin_final.csv\")\n",
    "# df_w = pd.read_csv(r\"D:\\Git\\aa_project\\Data\\berlin_weather.csv\")\n",
    "df_w = pd.read_csv(r\"D:\\OneDrive - Universität zu Köln\\Uni\\AA\\Project\\aa_project\\Data\\berlin_weather.csv\")"
   ]
  },
  {
   "cell_type": "code",
   "execution_count": 3,
   "metadata": {
    "pycharm": {
     "name": "#%%\n"
    }
   },
   "outputs": [
    {
     "data": {
      "text/plain": "   Unnamed: 0  sid             datetime  temperature  precipitation  \\\n0        3600  433  2019-02-01 00:00:00         -1.6            0.0   \n1        3601  433  2019-02-01 01:00:00         -2.3            0.0   \n2        3602  433  2019-02-01 02:00:00         -2.7            0.0   \n3        3603  433  2019-02-01 03:00:00         -2.8            0.0   \n4        3604  433  2019-02-01 04:00:00         -3.4            0.0   \n\n   wind_speed  \n0         2.8  \n1         2.8  \n2         3.1  \n3         2.4  \n4         3.3  ",
      "text/html": "<div>\n<style scoped>\n    .dataframe tbody tr th:only-of-type {\n        vertical-align: middle;\n    }\n\n    .dataframe tbody tr th {\n        vertical-align: top;\n    }\n\n    .dataframe thead th {\n        text-align: right;\n    }\n</style>\n<table border=\"1\" class=\"dataframe\">\n  <thead>\n    <tr style=\"text-align: right;\">\n      <th></th>\n      <th>Unnamed: 0</th>\n      <th>sid</th>\n      <th>datetime</th>\n      <th>temperature</th>\n      <th>precipitation</th>\n      <th>wind_speed</th>\n    </tr>\n  </thead>\n  <tbody>\n    <tr>\n      <th>0</th>\n      <td>3600</td>\n      <td>433</td>\n      <td>2019-02-01 00:00:00</td>\n      <td>-1.6</td>\n      <td>0.0</td>\n      <td>2.8</td>\n    </tr>\n    <tr>\n      <th>1</th>\n      <td>3601</td>\n      <td>433</td>\n      <td>2019-02-01 01:00:00</td>\n      <td>-2.3</td>\n      <td>0.0</td>\n      <td>2.8</td>\n    </tr>\n    <tr>\n      <th>2</th>\n      <td>3602</td>\n      <td>433</td>\n      <td>2019-02-01 02:00:00</td>\n      <td>-2.7</td>\n      <td>0.0</td>\n      <td>3.1</td>\n    </tr>\n    <tr>\n      <th>3</th>\n      <td>3603</td>\n      <td>433</td>\n      <td>2019-02-01 03:00:00</td>\n      <td>-2.8</td>\n      <td>0.0</td>\n      <td>2.4</td>\n    </tr>\n    <tr>\n      <th>4</th>\n      <td>3604</td>\n      <td>433</td>\n      <td>2019-02-01 04:00:00</td>\n      <td>-3.4</td>\n      <td>0.0</td>\n      <td>3.3</td>\n    </tr>\n  </tbody>\n</table>\n</div>"
     },
     "execution_count": 3,
     "metadata": {},
     "output_type": "execute_result"
    }
   ],
   "source": [
    "df_w.head()"
   ]
  },
  {
   "cell_type": "code",
   "execution_count": 4,
   "metadata": {
    "scrolled": true
   },
   "outputs": [
    {
     "data": {
      "text/plain": "   Unnamed: 0                  day  year  month  date  hour  min  weekday  \\\n0           0  2019-02-16 14:53:00  2019      2    16    14   53        6   \n1           1  2019-02-16 17:22:00  2019      2    16    17   22        6   \n2           2  2019-02-16 23:29:00  2019      2    16    23   29        6   \n3           3  2019-02-18 17:49:00  2019      2    18    17   49        1   \n4           4  2019-02-19 13:08:00  2019      2    19    13    8        2   \n\n  weekday_str  b_number    city  trip_duration  distance   orig_lat  \\\n0    Saturday     13001  berlin             21     4.141  52.505076   \n1    Saturday     13001  berlin             27     4.142  52.534591   \n2    Saturday     13001  berlin             22     3.894  52.504621   \n3      Monday     13001  berlin             15     1.855  52.528998   \n4     Tuesday     13001  berlin              9     1.009  52.536231   \n\n    orig_lng   dest_lat   dest_lng  \n0  13.414721  52.534591  13.452043  \n1  13.452043  52.504621  13.415686  \n2  13.415686  52.528998  13.456997  \n3  13.456997  52.536231  13.432285  \n4  13.432285  52.543311  13.441611  ",
      "text/html": "<div>\n<style scoped>\n    .dataframe tbody tr th:only-of-type {\n        vertical-align: middle;\n    }\n\n    .dataframe tbody tr th {\n        vertical-align: top;\n    }\n\n    .dataframe thead th {\n        text-align: right;\n    }\n</style>\n<table border=\"1\" class=\"dataframe\">\n  <thead>\n    <tr style=\"text-align: right;\">\n      <th></th>\n      <th>Unnamed: 0</th>\n      <th>day</th>\n      <th>year</th>\n      <th>month</th>\n      <th>date</th>\n      <th>hour</th>\n      <th>min</th>\n      <th>weekday</th>\n      <th>weekday_str</th>\n      <th>b_number</th>\n      <th>city</th>\n      <th>trip_duration</th>\n      <th>distance</th>\n      <th>orig_lat</th>\n      <th>orig_lng</th>\n      <th>dest_lat</th>\n      <th>dest_lng</th>\n    </tr>\n  </thead>\n  <tbody>\n    <tr>\n      <th>0</th>\n      <td>0</td>\n      <td>2019-02-16 14:53:00</td>\n      <td>2019</td>\n      <td>2</td>\n      <td>16</td>\n      <td>14</td>\n      <td>53</td>\n      <td>6</td>\n      <td>Saturday</td>\n      <td>13001</td>\n      <td>berlin</td>\n      <td>21</td>\n      <td>4.141</td>\n      <td>52.505076</td>\n      <td>13.414721</td>\n      <td>52.534591</td>\n      <td>13.452043</td>\n    </tr>\n    <tr>\n      <th>1</th>\n      <td>1</td>\n      <td>2019-02-16 17:22:00</td>\n      <td>2019</td>\n      <td>2</td>\n      <td>16</td>\n      <td>17</td>\n      <td>22</td>\n      <td>6</td>\n      <td>Saturday</td>\n      <td>13001</td>\n      <td>berlin</td>\n      <td>27</td>\n      <td>4.142</td>\n      <td>52.534591</td>\n      <td>13.452043</td>\n      <td>52.504621</td>\n      <td>13.415686</td>\n    </tr>\n    <tr>\n      <th>2</th>\n      <td>2</td>\n      <td>2019-02-16 23:29:00</td>\n      <td>2019</td>\n      <td>2</td>\n      <td>16</td>\n      <td>23</td>\n      <td>29</td>\n      <td>6</td>\n      <td>Saturday</td>\n      <td>13001</td>\n      <td>berlin</td>\n      <td>22</td>\n      <td>3.894</td>\n      <td>52.504621</td>\n      <td>13.415686</td>\n      <td>52.528998</td>\n      <td>13.456997</td>\n    </tr>\n    <tr>\n      <th>3</th>\n      <td>3</td>\n      <td>2019-02-18 17:49:00</td>\n      <td>2019</td>\n      <td>2</td>\n      <td>18</td>\n      <td>17</td>\n      <td>49</td>\n      <td>1</td>\n      <td>Monday</td>\n      <td>13001</td>\n      <td>berlin</td>\n      <td>15</td>\n      <td>1.855</td>\n      <td>52.528998</td>\n      <td>13.456997</td>\n      <td>52.536231</td>\n      <td>13.432285</td>\n    </tr>\n    <tr>\n      <th>4</th>\n      <td>4</td>\n      <td>2019-02-19 13:08:00</td>\n      <td>2019</td>\n      <td>2</td>\n      <td>19</td>\n      <td>13</td>\n      <td>8</td>\n      <td>2</td>\n      <td>Tuesday</td>\n      <td>13001</td>\n      <td>berlin</td>\n      <td>9</td>\n      <td>1.009</td>\n      <td>52.536231</td>\n      <td>13.432285</td>\n      <td>52.543311</td>\n      <td>13.441611</td>\n    </tr>\n  </tbody>\n</table>\n</div>"
     },
     "execution_count": 4,
     "metadata": {},
     "output_type": "execute_result"
    }
   ],
   "source": [
    "df.head()"
   ]
  },
  {
   "cell_type": "code",
   "execution_count": 5,
   "metadata": {},
   "outputs": [
    {
     "data": {
      "text/plain": "str"
     },
     "execution_count": 5,
     "metadata": {},
     "output_type": "execute_result"
    }
   ],
   "source": [
    "type(df_w[\"datetime\"][0])"
   ]
  },
  {
   "cell_type": "code",
   "execution_count": 6,
   "metadata": {},
   "outputs": [],
   "source": [
    "df_w.datetime = pd.to_datetime(df_w.datetime)"
   ]
  },
  {
   "cell_type": "code",
   "execution_count": 7,
   "metadata": {},
   "outputs": [
    {
     "data": {
      "text/plain": "pandas._libs.tslibs.timestamps.Timestamp"
     },
     "execution_count": 7,
     "metadata": {},
     "output_type": "execute_result"
    }
   ],
   "source": [
    "type(df_w[\"datetime\"][0])"
   ]
  },
  {
   "cell_type": "code",
   "execution_count": 8,
   "metadata": {},
   "outputs": [
    {
     "data": {
      "text/plain": "34"
     },
     "execution_count": 8,
     "metadata": {},
     "output_type": "execute_result"
    }
   ],
   "source": [
    "df[(df[\"month\"] == 2) & (df[\"date\"] == 1) & (df[\"hour\"] == 2)].size"
   ]
  },
  {
   "cell_type": "code",
   "execution_count": 9,
   "metadata": {},
   "outputs": [],
   "source": [
    "def get_trips(datetime):\n",
    "    return df[(df[\"month\"] == datetime.month) & (df[\"date\"] == datetime.day) & (df[\"hour\"] == datetime.hour)].size"
   ]
  },
  {
   "cell_type": "code",
   "execution_count": 10,
   "metadata": {},
   "outputs": [],
   "source": [
    "df_w[\"num_trips\"] = df_w[\"datetime\"].apply(get_trips)"
   ]
  },
  {
   "cell_type": "code",
   "execution_count": 11,
   "metadata": {},
   "outputs": [
    {
     "data": {
      "text/plain": "   Unnamed: 0  sid            datetime  temperature  precipitation  \\\n0        3600  433 2019-02-01 00:00:00         -1.6            0.0   \n1        3601  433 2019-02-01 01:00:00         -2.3            0.0   \n2        3602  433 2019-02-01 02:00:00         -2.7            0.0   \n3        3603  433 2019-02-01 03:00:00         -2.8            0.0   \n4        3604  433 2019-02-01 04:00:00         -3.4            0.0   \n\n   wind_speed  num_trips  \n0         2.8        187  \n1         2.8         68  \n2         3.1         34  \n3         2.4         17  \n4         3.3         17  ",
      "text/html": "<div>\n<style scoped>\n    .dataframe tbody tr th:only-of-type {\n        vertical-align: middle;\n    }\n\n    .dataframe tbody tr th {\n        vertical-align: top;\n    }\n\n    .dataframe thead th {\n        text-align: right;\n    }\n</style>\n<table border=\"1\" class=\"dataframe\">\n  <thead>\n    <tr style=\"text-align: right;\">\n      <th></th>\n      <th>Unnamed: 0</th>\n      <th>sid</th>\n      <th>datetime</th>\n      <th>temperature</th>\n      <th>precipitation</th>\n      <th>wind_speed</th>\n      <th>num_trips</th>\n    </tr>\n  </thead>\n  <tbody>\n    <tr>\n      <th>0</th>\n      <td>3600</td>\n      <td>433</td>\n      <td>2019-02-01 00:00:00</td>\n      <td>-1.6</td>\n      <td>0.0</td>\n      <td>2.8</td>\n      <td>187</td>\n    </tr>\n    <tr>\n      <th>1</th>\n      <td>3601</td>\n      <td>433</td>\n      <td>2019-02-01 01:00:00</td>\n      <td>-2.3</td>\n      <td>0.0</td>\n      <td>2.8</td>\n      <td>68</td>\n    </tr>\n    <tr>\n      <th>2</th>\n      <td>3602</td>\n      <td>433</td>\n      <td>2019-02-01 02:00:00</td>\n      <td>-2.7</td>\n      <td>0.0</td>\n      <td>3.1</td>\n      <td>34</td>\n    </tr>\n    <tr>\n      <th>3</th>\n      <td>3603</td>\n      <td>433</td>\n      <td>2019-02-01 03:00:00</td>\n      <td>-2.8</td>\n      <td>0.0</td>\n      <td>2.4</td>\n      <td>17</td>\n    </tr>\n    <tr>\n      <th>4</th>\n      <td>3604</td>\n      <td>433</td>\n      <td>2019-02-01 04:00:00</td>\n      <td>-3.4</td>\n      <td>0.0</td>\n      <td>3.3</td>\n      <td>17</td>\n    </tr>\n  </tbody>\n</table>\n</div>"
     },
     "execution_count": 11,
     "metadata": {},
     "output_type": "execute_result"
    }
   ],
   "source": [
    "df_w.head()"
   ]
  },
  {
   "cell_type": "code",
   "execution_count": 12,
   "metadata": {},
   "outputs": [],
   "source": [
    "def get_distance(datetime):\n",
    "    sum = 0\n",
    "    df_distance = df[(df[\"month\"] == datetime.month) & (df[\"date\"] == datetime.day) & (df[\"hour\"] == datetime.hour)]\n",
    "    for distance in df_distance[\"distance\"]:\n",
    "        sum = sum + distance\n",
    "    return sum"
   ]
  },
  {
   "cell_type": "code",
   "execution_count": 13,
   "metadata": {},
   "outputs": [
    {
     "name": "stdout",
     "output_type": "stream",
     "text": [
      "13.458\n"
     ]
    }
   ],
   "source": [
    "sum = 0\n",
    "df_distance = df[(df[\"month\"] == 2) & (df[\"date\"] == 1) & (df[\"hour\"] == 1)]\n",
    "for distance in df_distance[\"distance\"]:\n",
    "    sum = sum + distance\n",
    "print(sum)"
   ]
  },
  {
   "cell_type": "code",
   "execution_count": 14,
   "metadata": {},
   "outputs": [],
   "source": [
    "df_w[\"distance\"] = df_w[\"datetime\"].apply(get_distance)"
   ]
  },
  {
   "cell_type": "code",
   "execution_count": 15,
   "metadata": {},
   "outputs": [],
   "source": [
    "def get_duration(datetime):\n",
    "    sum = 0\n",
    "    df_duration = df[(df[\"month\"] == datetime.month) & (df[\"date\"] == datetime.day) & (df[\"hour\"] == datetime.hour)]\n",
    "    for duration in df_duration[\"trip_duration\"]:\n",
    "        sum = sum + duration\n",
    "    return sum"
   ]
  },
  {
   "cell_type": "code",
   "execution_count": 16,
   "metadata": {},
   "outputs": [],
   "source": [
    "df_w[\"duration\"] = df_w[\"datetime\"].apply(get_duration)"
   ]
  },
  {
   "cell_type": "code",
   "execution_count": 17,
   "metadata": {},
   "outputs": [
    {
     "name": "stdout",
     "output_type": "stream",
     "text": [
      "      Unnamed: 0  sid            datetime  temperature  precipitation  \\\n",
      "0           3600  433 2019-02-01 00:00:00         -1.6            0.0   \n",
      "1           3601  433 2019-02-01 01:00:00         -2.3            0.0   \n",
      "2           3602  433 2019-02-01 02:00:00         -2.7            0.0   \n",
      "3           3603  433 2019-02-01 03:00:00         -2.8            0.0   \n",
      "4           3604  433 2019-02-01 04:00:00         -3.4            0.0   \n",
      "...          ...  ...                 ...          ...            ...   \n",
      "3595        7195  433 2019-06-30 19:00:00         34.1            0.0   \n",
      "3596        7196  433 2019-06-30 20:00:00         30.1            0.0   \n",
      "3597        7197  433 2019-06-30 21:00:00         27.8            0.0   \n",
      "3598        7198  433 2019-06-30 22:00:00         25.8            0.0   \n",
      "3599        7199  433 2019-06-30 23:00:00         24.2            0.0   \n",
      "\n",
      "      wind_speed  num_trips  distance  duration  \n",
      "0            2.8        187    19.429       161  \n",
      "1            2.8         68    13.458        79  \n",
      "2            3.1         34     5.449        33  \n",
      "3            2.4         17     0.898         6  \n",
      "4            3.3         17     3.808        19  \n",
      "...          ...        ...       ...       ...  \n",
      "3595         2.6       1564   174.088      3125  \n",
      "3596         6.6       1428   198.162      2701  \n",
      "3597         7.8        816   110.786      1336  \n",
      "3598         6.5        697    79.000      1419  \n",
      "3599         5.3        629    67.024       909  \n",
      "\n",
      "[3600 rows x 9 columns]\n"
     ]
    }
   ],
   "source": [
    "# pd.set_option(\"display.max_rows\", None)\n",
    "# pd.set_option('display.max_columns', None)\n",
    "print(df_w)"
   ]
  },
  {
   "cell_type": "code",
   "execution_count": 18,
   "metadata": {},
   "outputs": [
    {
     "data": {
      "text/plain": "<Figure size 432x288 with 1 Axes>",
      "image/png": "[encoded data removed]"
     },
     "metadata": {
      "needs_background": "light"
     },
     "output_type": "display_data"
    }
   ],
   "source": [
    "data_w = pd.DataFrame()\n",
    "data_w['num_trips'] = df_w.num_trips.astype(int)\n",
    "data_w.sort_index(inplace=True)\n",
    "plt.plot(data_w.index, data_w.num_trips, label='Trips per hour')\n",
    "plt.ylabel('Trips')\n",
    "plt.xlabel('Hour')\n",
    "plt.show()"
   ]
  },
  {
   "cell_type": "code",
   "execution_count": 19,
   "metadata": {},
   "outputs": [
    {
     "data": {
      "text/plain": "<Figure size 432x288 with 1 Axes>",
      "image/png": "[encoded data removed]"
     },
     "metadata": {
      "needs_background": "light"
     },
     "output_type": "display_data"
    }
   ],
   "source": [
    "data_w = pd.DataFrame()\n",
    "data_w['duration'] = df_w.duration\n",
    "data_w.sort_index(inplace=True)\n",
    "plt.plot(data_w.index, data_w.duration, label='Trips per hour')\n",
    "plt.ylabel('Duration')\n",
    "plt.xlabel('Hour')\n",
    "plt.show()"
   ]
  },
  {
   "cell_type": "code",
   "execution_count": 20,
   "metadata": {},
   "outputs": [
    {
     "data": {
      "text/plain": "<Figure size 432x288 with 1 Axes>",
      "image/png": "[encoded data removed]"
     },
     "metadata": {
      "needs_background": "light"
     },
     "output_type": "display_data"
    }
   ],
   "source": [
    "data_w = pd.DataFrame()\n",
    "data_w['distance'] = df_w.distance\n",
    "data_w.sort_index(inplace=True)\n",
    "plt.plot(data_w.index, data_w.distance, label='Trips per hour')\n",
    "plt.ylabel('Distance')\n",
    "plt.xlabel('Hour')\n",
    "plt.show()"
   ]
  },
  {
   "cell_type": "code",
   "execution_count": 20,
   "metadata": {},
   "outputs": [],
   "source": []
  }
 ],
 "metadata": {
  "kernelspec": {
   "display_name": "Python 3",
   "language": "python",
   "name": "python3"
  },
  "language_info": {
   "codemirror_mode": {
    "name": "ipython",
    "version": 3
   },
   "file_extension": ".py",
   "mimetype": "text/x-python",
   "name": "python",
   "nbconvert_exporter": "python",
   "pygments_lexer": "ipython3",
   "version": "3.8.3"
  }
 },
 "nbformat": 4,
 "nbformat_minor": 1
}