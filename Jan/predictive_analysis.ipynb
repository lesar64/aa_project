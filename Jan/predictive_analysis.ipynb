{
 "cells": [
  {
   "cell_type": "code",
   "execution_count": 1,
   "metadata": {
    "collapsed": true
   },
   "outputs": [],
   "source": [
    "import pandas as pd\n",
    "import numpy as np\n",
    "import datetime as dt\n",
    "from yellowbrick.target import FeatureCorrelation"
   ]
  },
  {
   "cell_type": "code",
   "execution_count": 2,
   "outputs": [],
   "source": [
    "df_base = pd.read_csv(r\"D:\\OneDrive - Universität zu Köln\\Uni\\AA\\Project\\aa_project\\Data\\berlin_final.csv\")\n",
    "# df.drop(columns = [\"weekday_str\", \"city\", \"Unnamed: 0\", \"date\", \"hour\", \"b_number\"], inplace = True)\n",
    "# df = df[[\"day\", \"\"]]\n",
    "df_w = pd.read_csv(r\"D:\\OneDrive - Universität zu Köln\\Uni\\AA\\Project\\aa_project\\Data\\berlin_weather.csv\")\n",
    "df_w.drop(columns = [\"sid\", \"Unnamed: 0\"], inplace = True)\n",
    "df_w.datetime = pd.to_datetime(df_w.datetime)\n",
    "\n",
    "def get_trips(datetime):\n",
    "    return len(df_base[(df_base[\"month\"] == datetime.month) & (df_base[\"date\"] == datetime.day) & (df_base[\"hour\"] == datetime.hour)].index)"
   ],
   "metadata": {
    "collapsed": false,
    "pycharm": {
     "name": "#%%\n"
    }
   }
  },
  {
   "cell_type": "code",
   "execution_count": 3,
   "outputs": [],
   "source": [
    "df_w[\"num_trips\"] = df_w[\"datetime\"].apply(get_trips)"
   ],
   "metadata": {
    "collapsed": false,
    "pycharm": {
     "name": "#%%\n"
    }
   }
  },
  {
   "cell_type": "code",
   "execution_count": 4,
   "outputs": [],
   "source": [
    "def get_month(datetime):\n",
    "    return datetime.month\n",
    "def get_hour(datetime):\n",
    "    return datetime.hour\n",
    "def get_weekday(datetime):\n",
    "    return datetime.weekday() + 1"
   ],
   "metadata": {
    "collapsed": false,
    "pycharm": {
     "name": "#%%\n"
    }
   }
  },
  {
   "cell_type": "code",
   "execution_count": 5,
   "outputs": [],
   "source": [
    "df_w['month'] = df_w['datetime'].apply(get_month)\n",
    "df_w['hour'] = df_w['datetime'].apply(get_hour)\n",
    "df_w['weekday'] = df_w['datetime'].apply(get_weekday)\n"
   ],
   "metadata": {
    "collapsed": false,
    "pycharm": {
     "name": "#%%\n"
    }
   }
  },
  {
   "cell_type": "code",
   "execution_count": 6,
   "outputs": [],
   "source": [
    "start = dt.datetime.strptime('2019-03-15 13:00:00', '%Y-%m-%d %H:%M:%S')\n",
    "end = dt.datetime.strptime('2019-03-19 08:00:00', '%Y-%m-%d %H:%M:%S')\n",
    "\n",
    "df_w.drop(df_w[(df_w.datetime >= start) &\n",
    "         (df_w.datetime <= end)].index, inplace = True)"
   ],
   "metadata": {
    "collapsed": false,
    "pycharm": {
     "name": "#%%\n"
    }
   }
  },
  {
   "cell_type": "code",
   "execution_count": 13,
   "outputs": [],
   "source": [
    "df = df_w[['month', 'weekday', 'hour', 'num_trips', 'temperature', 'precipitation', 'wind_speed']]\n",
    "df_target = df[['num_trips']]\n",
    "df_data = df.drop('num_trips', axis=1)"
   ],
   "metadata": {
    "collapsed": false,
    "pycharm": {
     "name": "#%%\n"
    }
   }
  },
  {
   "cell_type": "code",
   "execution_count": 14,
   "outputs": [
    {
     "name": "stderr",
     "output_type": "stream",
     "text": [
      "c:\\users\\janfd\\appdata\\local\\programs\\python\\python37\\lib\\site-packages\\sklearn\\base.py:213: FutureWarning: From version 0.24, get_params will raise an AttributeError if a parameter cannot be retrieved as an instance attribute. Previously it would return None.\n",
      "  FutureWarning)\n",
      "c:\\users\\janfd\\appdata\\local\\programs\\python\\python37\\lib\\site-packages\\sklearn\\utils\\validation.py:72: DataConversionWarning: A column-vector y was passed when a 1d array was expected. Please change the shape of y to (n_samples, ), for example using ravel().\n",
      "  return f(**kwargs)\n"
     ]
    },
    {
     "data": {
      "text/plain": "<Figure size 576x396 with 1 Axes>",
      "image/png": "[encoded data removed]"
     },
     "metadata": {},
     "output_type": "display_data"
    },
    {
     "data": {
      "text/plain": "<matplotlib.axes._subplots.AxesSubplot at 0x24aa7d9b888>"
     },
     "execution_count": 14,
     "metadata": {},
     "output_type": "execute_result"
    }
   ],
   "source": [
    "X, y = df_data, df_target\n",
    "\n",
    "features = np.array(df_data.columns)\n",
    "\n",
    "# Create a list of the discrete features\n",
    "discrete = [False for _ in range(len(features))]\n",
    "discrete[1] = True\n",
    "\n",
    "# Instantiate the visualizer\n",
    "visualizer = FeatureCorrelation(method='mutual_info-regression', labels=features)\n",
    "\n",
    "visualizer.fit(X, y, discrete_features=discrete, random_state=0)\n",
    "visualizer.show()"
   ],
   "metadata": {
    "collapsed": false,
    "pycharm": {
     "name": "#%%\n"
    }
   }
  }
 ],
 "metadata": {
  "kernelspec": {
   "display_name": "Python 3",
   "language": "python",
   "name": "python3"
  },
  "language_info": {
   "codemirror_mode": {
    "name": "ipython",
    "version": 2
   },
   "file_extension": ".py",
   "mimetype": "text/x-python",
   "name": "python",
   "nbconvert_exporter": "python",
   "pygments_lexer": "ipython2",
   "version": "2.7.6"
  }
 },
 "nbformat": 4,
 "nbformat_minor": 0
}