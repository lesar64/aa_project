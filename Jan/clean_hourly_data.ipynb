{
 "cells": [
  {
   "cell_type": "code",
   "execution_count": 50,
   "metadata": {
    "collapsed": true
   },
   "outputs": [],
   "source": [
    "import pandas as pd\n",
    "import datetime as dt"
   ]
  },
  {
   "cell_type": "code",
   "execution_count": 51,
   "outputs": [],
   "source": [
    "df_t = pd.read_csv(r\"D:\\OneDrive - Universität zu Köln\\Uni\\AA\\Project\\aa_project\\Data\\cdc_download_2020-12-14_23_10\\data\\data_TT_TU_MN009.csv\")\n",
    "df_p = pd.read_csv(r\"D:\\OneDrive - Universität zu Köln\\Uni\\AA\\Project\\aa_project\\Data\\cdc_download_2020-12-14_23_10\\data\\data_R1_MN008.csv\")\n",
    "df_w = pd.read_csv(r\"D:\\OneDrive - Universität zu Köln\\Uni\\AA\\Project\\aa_project\\Data\\cdc_download_2020-12-14_23_10\\data\\data_FF_MN008.csv\")"
   ],
   "metadata": {
    "collapsed": false,
    "pycharm": {
     "name": "#%%\n"
    }
   }
  },
  {
   "cell_type": "code",
   "execution_count": 52,
   "outputs": [],
   "source": [
    "# datelist = []\n",
    "# monthly_dates = [28, 31, 30, 31, 30]\n",
    "# for i in range(2,6):\n",
    "#     for j in range(monthly_dates[i-2]):\n",
    "#         for n in range(23):\n",
    "#             for m in range(59):\n",
    "#                 datelist.append(\n",
    "#                     \"2019\" +\n",
    "#                     \"0\" + i +\n",
    "#                     j +\n",
    "#                     n +\n",
    "#                     m\n",
    "#                 )"
   ],
   "metadata": {
    "collapsed": false,
    "pycharm": {
     "name": "#%%\n"
    }
   }
  },
  {
   "cell_type": "code",
   "execution_count": 53,
   "outputs": [],
   "source": [
    "result = pd.merge(df_t, df_p, how=\"outer\", on =[\"Zeitstempel\",\"SDO_ID\"])"
   ],
   "metadata": {
    "collapsed": false,
    "pycharm": {
     "name": "#%%\n"
    }
   }
  },
  {
   "cell_type": "code",
   "execution_count": 54,
   "outputs": [],
   "source": [
    "\n",
    "# result.columns.to_list"
   ],
   "metadata": {
    "collapsed": false,
    "pycharm": {
     "name": "#%%\n"
    }
   }
  },
  {
   "cell_type": "code",
   "execution_count": 55,
   "outputs": [],
   "source": [
    "# result['Wert_x'].isnull().values.any()"
   ],
   "metadata": {
    "collapsed": false,
    "pycharm": {
     "name": "#%%\n"
    }
   }
  },
  {
   "cell_type": "code",
   "execution_count": 56,
   "outputs": [],
   "source": [
    "result = pd.merge(result, df_w, how=\"outer\", on =[\"Zeitstempel\",\"SDO_ID\"])"
   ],
   "metadata": {
    "collapsed": false,
    "pycharm": {
     "name": "#%%\n"
    }
   }
  },
  {
   "cell_type": "code",
   "execution_count": 57,
   "outputs": [],
   "source": [
    "result.drop(['Produkt_Code_x', 'Qualitaet_Byte_x',\n",
    "       'Qualitaet_Niveau_x', 'Produkt_Code_y', 'Qualitaet_Byte_y',\n",
    "       'Qualitaet_Niveau_y', 'Produkt_Code', 'Qualitaet_Byte', 'Qualitaet_Niveau'], axis=1, inplace=True)"
   ],
   "metadata": {
    "collapsed": false,
    "pycharm": {
     "name": "#%%\n"
    }
   }
  },
  {
   "cell_type": "code",
   "execution_count": 58,
   "outputs": [],
   "source": [
    "result.rename(columns={\"SDO_ID\": \"sid\",\n",
    "                       \"Zeitstempel\": \"datetime\",\n",
    "                       \"Wert_x\": \"temperature\",\n",
    "                       \"Wert_y\": \"precipitation\",\n",
    "                       \"Wert\": \"wind_speed\",}, inplace=True)"
   ],
   "metadata": {
    "collapsed": false,
    "pycharm": {
     "name": "#%%\n"
    }
   }
  },
  {
   "cell_type": "code",
   "execution_count": 59,
   "outputs": [],
   "source": [
    "result.temperature.fillna(method=\"ffill\", inplace=True)\n",
    "result.precipitation.fillna(value=0, inplace=True)\n",
    "result.wind_speed.fillna(value=result.wind_speed.median(), inplace=True)"
   ],
   "metadata": {
    "collapsed": false,
    "pycharm": {
     "name": "#%%\n"
    }
   }
  },
  {
   "cell_type": "code",
   "execution_count": 64,
   "outputs": [],
   "source": [
    "# result['new_date'] = pd.to_datetime(result.datetime, format=\"%Y/%m/%d/%H/%M\")"
   ],
   "metadata": {
    "collapsed": false,
    "pycharm": {
     "name": "#%%\n"
    }
   }
  },
  {
   "cell_type": "code",
   "execution_count": 66,
   "outputs": [],
   "source": [
    "def get_date(time):\n",
    "    # return str(time[0:4] + \"-\" + time[4:6] + \"-\" + time[6:8])\n",
    "    return pd.Timestamp(int(str(time)[0:4]), int(str(time)[4:6]), int(str(time)[6:8]), int(str(time)[8:10]))\n"
   ],
   "metadata": {
    "collapsed": false,
    "pycharm": {
     "name": "#%%\n"
    }
   }
  },
  {
   "cell_type": "code",
   "execution_count": 69,
   "outputs": [],
   "source": [
    "result[\"datetime\"] = result.datetime.apply(get_date)\n"
   ],
   "metadata": {
    "collapsed": false,
    "pycharm": {
     "name": "#%%\n"
    }
   }
  },
  {
   "cell_type": "code",
   "execution_count": 72,
   "outputs": [],
   "source": [
    "df_f = result[result.sid == 1420]\n",
    "df_f.to_csv(r\"D:\\OneDrive - Universität zu Köln\\Uni\\AA\\Project\\aa_project\\Data\\frankfurt_weather.csv\")\n",
    "\n",
    "df_b = result[result.sid == 433]\n",
    "df_b.to_csv(r\"D:\\OneDrive - Universität zu Köln\\Uni\\AA\\Project\\aa_project\\Data\\berlin_weather.csv\")\n"
   ],
   "metadata": {
    "collapsed": false,
    "pycharm": {
     "name": "#%%\n"
    }
   }
  }
 ],
 "metadata": {
  "kernelspec": {
   "display_name": "Python 3",
   "language": "python",
   "name": "python3"
  },
  "language_info": {
   "codemirror_mode": {
    "name": "ipython",
    "version": 2
   },
   "file_extension": ".py",
   "mimetype": "text/x-python",
   "name": "python",
   "nbconvert_exporter": "python",
   "pygments_lexer": "ipython2",
   "version": "2.7.6"
  }
 },
 "nbformat": 4,
 "nbformat_minor": 0
}